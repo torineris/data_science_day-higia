{
  "nbformat": 4,
  "nbformat_minor": 0,
  "metadata": {
    "colab": {
      "provenance": []
    },
    "kernelspec": {
      "name": "python3",
      "display_name": "Python 3"
    },
    "language_info": {
      "name": "python"
    }
  },
  "cells": [
    {
      "cell_type": "markdown",
      "source": [
        "## Importando as bibliotecas"
      ],
      "metadata": {
        "id": "D9AV_8Lvu4o_"
      }
    },
    {
      "cell_type": "markdown",
      "source": [
        "**Documentações:**\n",
        "- Numpy: https://numpy.org/doc/stable/\n",
        "- Pandas: https://pandas.pydata.org/docs/index.html"
      ],
      "metadata": {
        "id": "QLGkhg3xX0dI"
      }
    },
    {
      "cell_type": "code",
      "source": [
        "import numpy as np\n",
        "import pandas as pd\n"
      ],
      "metadata": {
        "id": "zY3OTaVswDzo"
      },
      "execution_count": 1,
      "outputs": []
    },
    {
      "cell_type": "markdown",
      "source": [
        "## Explorando o numpy"
      ],
      "metadata": {
        "id": "a3-0VockTlDU"
      }
    },
    {
      "cell_type": "markdown",
      "source": [
        "### Criando arrays"
      ],
      "metadata": {
        "id": "OGNDyEvPn7Y-"
      }
    },
    {
      "cell_type": "markdown",
      "source": [
        "Criando um array com array()"
      ],
      "metadata": {
        "id": "4eiuqG0kWBOy"
      }
    },
    {
      "cell_type": "markdown",
      "source": [
        "array de uma dimensão"
      ],
      "metadata": {
        "id": "yigXx38aYtls"
      }
    },
    {
      "cell_type": "code",
      "source": [
        "lista = [2, 4, 6, 8, 10]\n",
        "\n",
        "np.array(lista)"
      ],
      "metadata": {
        "id": "yoWyQ7q4WAnz",
        "colab": {
          "base_uri": "https://localhost:8080/"
        },
        "outputId": "916dbc7d-7bd7-4635-9d6a-32f2a1faabf9"
      },
      "execution_count": 2,
      "outputs": [
        {
          "output_type": "execute_result",
          "data": {
            "text/plain": [
              "array([ 2,  4,  6,  8, 10])"
            ]
          },
          "metadata": {},
          "execution_count": 2
        }
      ]
    },
    {
      "cell_type": "code",
      "source": [
        "array1 = np.array(lista)"
      ],
      "metadata": {
        "id": "cb0fo2lQL8k1"
      },
      "execution_count": 3,
      "outputs": []
    },
    {
      "cell_type": "code",
      "source": [
        "type(array1)"
      ],
      "metadata": {
        "id": "jtt8vuUMbBtE",
        "colab": {
          "base_uri": "https://localhost:8080/"
        },
        "outputId": "52eb2b77-1917-48a8-e28b-8a1b0b8ac652"
      },
      "execution_count": 4,
      "outputs": [
        {
          "output_type": "execute_result",
          "data": {
            "text/plain": [
              "numpy.ndarray"
            ]
          },
          "metadata": {},
          "execution_count": 4
        }
      ]
    },
    {
      "cell_type": "markdown",
      "source": [
        "array de duas dimensões"
      ],
      "metadata": {
        "id": "GW52PI-AbW7r"
      }
    },
    {
      "cell_type": "code",
      "source": [
        "array2 = np.array([[1, 4, 6, 7, 10],[1,2,3,4,5]])"
      ],
      "metadata": {
        "id": "8U6kIR6ueOru"
      },
      "execution_count": 6,
      "outputs": []
    },
    {
      "cell_type": "code",
      "source": [
        "array2"
      ],
      "metadata": {
        "id": "ITXl8eAUeTM0",
        "colab": {
          "base_uri": "https://localhost:8080/"
        },
        "outputId": "0d0a3955-18aa-4c02-a6c0-899822a34065"
      },
      "execution_count": 7,
      "outputs": [
        {
          "output_type": "execute_result",
          "data": {
            "text/plain": [
              "array([[ 1,  4,  6,  7, 10],\n",
              "       [ 1,  2,  3,  4,  5]])"
            ]
          },
          "metadata": {},
          "execution_count": 7
        }
      ]
    },
    {
      "cell_type": "markdown",
      "source": [
        "Criando um array com arange()\n",
        "\n",
        "*sintaxe básica: numpy.arange(start, stop, step, dtype=None)*"
      ],
      "metadata": {
        "id": "zyktQfwhetFt"
      }
    },
    {
      "cell_type": "code",
      "source": [
        "#com apenas um parâmetro\n",
        "array3 = np.arange(10)\n",
        "\n",
        "array3"
      ],
      "metadata": {
        "id": "zoRJyJYDexqE",
        "colab": {
          "base_uri": "https://localhost:8080/"
        },
        "outputId": "eeff97ee-5d08-44ba-ebc5-a28328fd39b3"
      },
      "execution_count": 8,
      "outputs": [
        {
          "output_type": "execute_result",
          "data": {
            "text/plain": [
              "array([0, 1, 2, 3, 4, 5, 6, 7, 8, 9])"
            ]
          },
          "metadata": {},
          "execution_count": 8
        }
      ]
    },
    {
      "cell_type": "code",
      "source": [
        "#completo\n",
        "array4 = np.arange(1, 20, 3)\n",
        "\n",
        "array4"
      ],
      "metadata": {
        "id": "Pi7eE6qKfUot",
        "colab": {
          "base_uri": "https://localhost:8080/"
        },
        "outputId": "31d27d05-6892-4a76-9dbb-9d27d0709cf1"
      },
      "execution_count": 9,
      "outputs": [
        {
          "output_type": "execute_result",
          "data": {
            "text/plain": [
              "array([ 1,  4,  7, 10, 13, 16, 19])"
            ]
          },
          "metadata": {},
          "execution_count": 9
        }
      ]
    },
    {
      "cell_type": "markdown",
      "source": [
        "Usando o random.randint()\n",
        "\n",
        "*np.random.randint(low, high=None, size=None, dtype=int)*"
      ],
      "metadata": {
        "id": "1N0_0xUVeGT0"
      }
    },
    {
      "cell_type": "code",
      "source": [
        "array5 = np.random.randint(0, 40, 10)\n",
        "\n",
        "array5"
      ],
      "metadata": {
        "id": "K4NA7-ncg6KU",
        "colab": {
          "base_uri": "https://localhost:8080/"
        },
        "outputId": "0d9eca97-ec9c-4a10-b1a0-c0b2aa190355"
      },
      "execution_count": 10,
      "outputs": [
        {
          "output_type": "execute_result",
          "data": {
            "text/plain": [
              "array([25,  6, 28, 17, 30, 31, 37,  1, 36, 25])"
            ]
          },
          "metadata": {},
          "execution_count": 10
        }
      ]
    },
    {
      "cell_type": "markdown",
      "source": [
        "### Operações com arrays"
      ],
      "metadata": {
        "id": "6lKnjzfnn_rN"
      }
    },
    {
      "cell_type": "code",
      "source": [
        "#máximo\n",
        "np.max(array1)"
      ],
      "metadata": {
        "id": "3kjjumNzpB1_",
        "colab": {
          "base_uri": "https://localhost:8080/"
        },
        "outputId": "174cfab9-58a9-4ba9-a9fc-ed33d5da29d2"
      },
      "execution_count": 11,
      "outputs": [
        {
          "output_type": "execute_result",
          "data": {
            "text/plain": [
              "10"
            ]
          },
          "metadata": {},
          "execution_count": 11
        }
      ]
    },
    {
      "cell_type": "code",
      "source": [
        "#minimo\n",
        "np.min(array2)"
      ],
      "metadata": {
        "id": "EhShDv6PpVxt",
        "colab": {
          "base_uri": "https://localhost:8080/"
        },
        "outputId": "72798b0f-3dc9-4c36-ae18-2ebb3cfb8558"
      },
      "execution_count": 12,
      "outputs": [
        {
          "output_type": "execute_result",
          "data": {
            "text/plain": [
              "1"
            ]
          },
          "metadata": {},
          "execution_count": 12
        }
      ]
    },
    {
      "cell_type": "code",
      "source": [
        "#média\n",
        "np.mean(array1)"
      ],
      "metadata": {
        "id": "sGYBgXNEqSZ2",
        "colab": {
          "base_uri": "https://localhost:8080/"
        },
        "outputId": "301f2669-e583-44d1-e4fc-3df7c5acb416"
      },
      "execution_count": 5,
      "outputs": [
        {
          "output_type": "execute_result",
          "data": {
            "text/plain": [
              "6.0"
            ]
          },
          "metadata": {},
          "execution_count": 5
        }
      ]
    },
    {
      "cell_type": "code",
      "source": [
        "#mediana\n",
        "np.median(array5)"
      ],
      "metadata": {
        "id": "oOWphk6gM8Dr",
        "colab": {
          "base_uri": "https://localhost:8080/"
        },
        "outputId": "32faec73-f4d4-4a17-ac3b-5f8860ac96cb"
      },
      "execution_count": 13,
      "outputs": [
        {
          "output_type": "execute_result",
          "data": {
            "text/plain": [
              "26.5"
            ]
          },
          "metadata": {},
          "execution_count": 13
        }
      ]
    },
    {
      "cell_type": "code",
      "source": [
        "#média array bidimensional\n",
        "np.mean(array5)"
      ],
      "metadata": {
        "id": "R5Vs5ekZqw5o",
        "colab": {
          "base_uri": "https://localhost:8080/"
        },
        "outputId": "09a058ab-dbc9-4dcb-c819-b37db2f977ce"
      },
      "execution_count": 14,
      "outputs": [
        {
          "output_type": "execute_result",
          "data": {
            "text/plain": [
              "23.6"
            ]
          },
          "metadata": {},
          "execution_count": 14
        }
      ]
    },
    {
      "cell_type": "markdown",
      "source": [
        "# Explorando o pandas"
      ],
      "metadata": {
        "id": "YZLTt1aueBss"
      }
    },
    {
      "cell_type": "code",
      "source": [
        "from google.colab import drive\n",
        "drive.mount('/content/drive')"
      ],
      "metadata": {
        "colab": {
          "base_uri": "https://localhost:8080/"
        },
        "id": "kbXhPwoQHi8m",
        "outputId": "ebbfc5b1-9750-4290-b053-72ac86a695e9"
      },
      "execution_count": null,
      "outputs": [
        {
          "output_type": "stream",
          "name": "stdout",
          "text": [
            "Mounted at /content/drive\n"
          ]
        }
      ]
    },
    {
      "cell_type": "code",
      "source": [
        "dados = pd.read_csv('/content/drive/MyDrive/Colab Notebooks/dsday/Coronarianos.csv', sep= ';')"
      ],
      "metadata": {
        "id": "ovfdTYgzwHjv"
      },
      "execution_count": null,
      "outputs": []
    },
    {
      "cell_type": "code",
      "source": [
        "dados.head(10)"
      ],
      "metadata": {
        "id": "elzYwFMZwNFe",
        "colab": {
          "base_uri": "https://localhost:8080/",
          "height": 630
        },
        "outputId": "3d7365bd-3b78-4e30-da4c-76abcac45d0e"
      },
      "execution_count": null,
      "outputs": [
        {
          "output_type": "execute_result",
          "data": {
            "text/plain": [
              "  SEXO apHas apDm apAf  apTabagismo apDPOC apCreatinina apColesterol  \\\n",
              "0    M   Sim  Nao  Nao  Interropido    Nao          Nao          Nao   \n",
              "1    F   Sim  Sim  Nao          Nao    Nao          Nao          Sim   \n",
              "2    M   Sim  Sim  Nao          Nao    Nao          Nao          Nao   \n",
              "3    M   Sim  Nao  Nao  Interropido    Sim          Nao          Sim   \n",
              "4    M   Sim  Nao  Nao        Atual    Nao          Nao          Nao   \n",
              "5    M   Sim  Nao  Nao  Interropido    Nao          Sim          Sim   \n",
              "6    M   Sim  Sim  Nao  Interropido    Nao          Nao          Sim   \n",
              "7    F   Sim  Sim  Nao          Nao    Nao          Sim          Sim   \n",
              "8    M   Sim  Sim  Nao          Nao    Nao          Nao          Sim   \n",
              "9    M   Sim  Sim  Nao  Interropido    Nao          Nao          Nao   \n",
              "\n",
              "  apTriglicerides apVasculo  ...             dc_diag2        Lesao  \\\n",
              "0             Nao       Nao  ...      Angina Instavel  Triarterial   \n",
              "1             Sim       Nao  ...  Isquemia Silenciosa   Biarterial   \n",
              "2             Nao       Nao  ...      Angina Instavel   Biarterial   \n",
              "3             Sim       Nao  ...       Angina Estavel  Uniarterial   \n",
              "4             Nao       Nao  ...       Angina Estavel  Uniarterial   \n",
              "5             Nao       Nao  ...  Indicacao Anatomica       Tronco   \n",
              "6             Nao       Nao  ...      Angina Instavel       Tronco   \n",
              "7             Nao       Nao  ...  Indicacao Anatomica  Triarterial   \n",
              "8             Nao       Nao  ...       Angina Estavel  Uniarterial   \n",
              "9             Nao       Nao  ...       Angina Estavel   Biarterial   \n",
              "\n",
              "  Pontes_Mamarias  QNP idadeCat    pesoCat      areaCat    alturaCat  \\\n",
              "0     Com mamaria  Nao  [71-95]  [62.5-70)  [1.66-1.78)  [1.62-1.67)   \n",
              "1     Com mamaria  Nao  [60-65)  [62.5-70)  [1.22-1.66)  [1.31-1.56)   \n",
              "2     Com mamaria  Nao  [65-71)    [70-76)  [1.78-1.88)  [1.62-1.67)   \n",
              "3     Com mamaria  Nao  [71-95]  [37-62.5)  [1.66-1.78)  [1.62-1.67)   \n",
              "4     Com mamaria  Nao  [18-54)   [85-148]     [2-11.9]  [1.72-71.8]   \n",
              "5     Sem mamaria  Nao  [71-95]    [76-85)     [1.88-2)  [1.72-71.8]   \n",
              "6     Sem mamaria  Nao  [71-95]    [76-85)     [1.88-2)  [1.67-1.72)   \n",
              "7     Sem mamaria  Nao  [71-95]  [62.5-70)  [1.66-1.78)  [1.56-1.62)   \n",
              "8     Sem mamaria  Nao  [65-71)   [85-148]     [2-11.9]  [1.67-1.72)   \n",
              "9     Com mamaria  Nao  [60-65)    [70-76)  [1.78-1.88)  [1.72-71.8]   \n",
              "\n",
              "  classCOMPLICACOES enf_Obito  \n",
              "0               Sim       Nao  \n",
              "1               Sim       Nao  \n",
              "2               Nao       Nao  \n",
              "3               Sim       Nao  \n",
              "4               Sim       Nao  \n",
              "5               Nao       Nao  \n",
              "6               Nao       Nao  \n",
              "7               Sim       Nao  \n",
              "8               Nao       Nao  \n",
              "9               Nao       Nao  \n",
              "\n",
              "[10 rows x 22 columns]"
            ],
            "text/html": [
              "\n",
              "  <div id=\"df-cdc3d946-dfbd-4691-b195-ef36a3f83fc1\">\n",
              "    <div class=\"colab-df-container\">\n",
              "      <div>\n",
              "<style scoped>\n",
              "    .dataframe tbody tr th:only-of-type {\n",
              "        vertical-align: middle;\n",
              "    }\n",
              "\n",
              "    .dataframe tbody tr th {\n",
              "        vertical-align: top;\n",
              "    }\n",
              "\n",
              "    .dataframe thead th {\n",
              "        text-align: right;\n",
              "    }\n",
              "</style>\n",
              "<table border=\"1\" class=\"dataframe\">\n",
              "  <thead>\n",
              "    <tr style=\"text-align: right;\">\n",
              "      <th></th>\n",
              "      <th>SEXO</th>\n",
              "      <th>apHas</th>\n",
              "      <th>apDm</th>\n",
              "      <th>apAf</th>\n",
              "      <th>apTabagismo</th>\n",
              "      <th>apDPOC</th>\n",
              "      <th>apCreatinina</th>\n",
              "      <th>apColesterol</th>\n",
              "      <th>apTriglicerides</th>\n",
              "      <th>apVasculo</th>\n",
              "      <th>...</th>\n",
              "      <th>dc_diag2</th>\n",
              "      <th>Lesao</th>\n",
              "      <th>Pontes_Mamarias</th>\n",
              "      <th>QNP</th>\n",
              "      <th>idadeCat</th>\n",
              "      <th>pesoCat</th>\n",
              "      <th>areaCat</th>\n",
              "      <th>alturaCat</th>\n",
              "      <th>classCOMPLICACOES</th>\n",
              "      <th>enf_Obito</th>\n",
              "    </tr>\n",
              "  </thead>\n",
              "  <tbody>\n",
              "    <tr>\n",
              "      <th>0</th>\n",
              "      <td>M</td>\n",
              "      <td>Sim</td>\n",
              "      <td>Nao</td>\n",
              "      <td>Nao</td>\n",
              "      <td>Interropido</td>\n",
              "      <td>Nao</td>\n",
              "      <td>Nao</td>\n",
              "      <td>Nao</td>\n",
              "      <td>Nao</td>\n",
              "      <td>Nao</td>\n",
              "      <td>...</td>\n",
              "      <td>Angina Instavel</td>\n",
              "      <td>Triarterial</td>\n",
              "      <td>Com mamaria</td>\n",
              "      <td>Nao</td>\n",
              "      <td>[71-95]</td>\n",
              "      <td>[62.5-70)</td>\n",
              "      <td>[1.66-1.78)</td>\n",
              "      <td>[1.62-1.67)</td>\n",
              "      <td>Sim</td>\n",
              "      <td>Nao</td>\n",
              "    </tr>\n",
              "    <tr>\n",
              "      <th>1</th>\n",
              "      <td>F</td>\n",
              "      <td>Sim</td>\n",
              "      <td>Sim</td>\n",
              "      <td>Nao</td>\n",
              "      <td>Nao</td>\n",
              "      <td>Nao</td>\n",
              "      <td>Nao</td>\n",
              "      <td>Sim</td>\n",
              "      <td>Sim</td>\n",
              "      <td>Nao</td>\n",
              "      <td>...</td>\n",
              "      <td>Isquemia Silenciosa</td>\n",
              "      <td>Biarterial</td>\n",
              "      <td>Com mamaria</td>\n",
              "      <td>Nao</td>\n",
              "      <td>[60-65)</td>\n",
              "      <td>[62.5-70)</td>\n",
              "      <td>[1.22-1.66)</td>\n",
              "      <td>[1.31-1.56)</td>\n",
              "      <td>Sim</td>\n",
              "      <td>Nao</td>\n",
              "    </tr>\n",
              "    <tr>\n",
              "      <th>2</th>\n",
              "      <td>M</td>\n",
              "      <td>Sim</td>\n",
              "      <td>Sim</td>\n",
              "      <td>Nao</td>\n",
              "      <td>Nao</td>\n",
              "      <td>Nao</td>\n",
              "      <td>Nao</td>\n",
              "      <td>Nao</td>\n",
              "      <td>Nao</td>\n",
              "      <td>Nao</td>\n",
              "      <td>...</td>\n",
              "      <td>Angina Instavel</td>\n",
              "      <td>Biarterial</td>\n",
              "      <td>Com mamaria</td>\n",
              "      <td>Nao</td>\n",
              "      <td>[65-71)</td>\n",
              "      <td>[70-76)</td>\n",
              "      <td>[1.78-1.88)</td>\n",
              "      <td>[1.62-1.67)</td>\n",
              "      <td>Nao</td>\n",
              "      <td>Nao</td>\n",
              "    </tr>\n",
              "    <tr>\n",
              "      <th>3</th>\n",
              "      <td>M</td>\n",
              "      <td>Sim</td>\n",
              "      <td>Nao</td>\n",
              "      <td>Nao</td>\n",
              "      <td>Interropido</td>\n",
              "      <td>Sim</td>\n",
              "      <td>Nao</td>\n",
              "      <td>Sim</td>\n",
              "      <td>Sim</td>\n",
              "      <td>Nao</td>\n",
              "      <td>...</td>\n",
              "      <td>Angina Estavel</td>\n",
              "      <td>Uniarterial</td>\n",
              "      <td>Com mamaria</td>\n",
              "      <td>Nao</td>\n",
              "      <td>[71-95]</td>\n",
              "      <td>[37-62.5)</td>\n",
              "      <td>[1.66-1.78)</td>\n",
              "      <td>[1.62-1.67)</td>\n",
              "      <td>Sim</td>\n",
              "      <td>Nao</td>\n",
              "    </tr>\n",
              "    <tr>\n",
              "      <th>4</th>\n",
              "      <td>M</td>\n",
              "      <td>Sim</td>\n",
              "      <td>Nao</td>\n",
              "      <td>Nao</td>\n",
              "      <td>Atual</td>\n",
              "      <td>Nao</td>\n",
              "      <td>Nao</td>\n",
              "      <td>Nao</td>\n",
              "      <td>Nao</td>\n",
              "      <td>Nao</td>\n",
              "      <td>...</td>\n",
              "      <td>Angina Estavel</td>\n",
              "      <td>Uniarterial</td>\n",
              "      <td>Com mamaria</td>\n",
              "      <td>Nao</td>\n",
              "      <td>[18-54)</td>\n",
              "      <td>[85-148]</td>\n",
              "      <td>[2-11.9]</td>\n",
              "      <td>[1.72-71.8]</td>\n",
              "      <td>Sim</td>\n",
              "      <td>Nao</td>\n",
              "    </tr>\n",
              "    <tr>\n",
              "      <th>5</th>\n",
              "      <td>M</td>\n",
              "      <td>Sim</td>\n",
              "      <td>Nao</td>\n",
              "      <td>Nao</td>\n",
              "      <td>Interropido</td>\n",
              "      <td>Nao</td>\n",
              "      <td>Sim</td>\n",
              "      <td>Sim</td>\n",
              "      <td>Nao</td>\n",
              "      <td>Nao</td>\n",
              "      <td>...</td>\n",
              "      <td>Indicacao Anatomica</td>\n",
              "      <td>Tronco</td>\n",
              "      <td>Sem mamaria</td>\n",
              "      <td>Nao</td>\n",
              "      <td>[71-95]</td>\n",
              "      <td>[76-85)</td>\n",
              "      <td>[1.88-2)</td>\n",
              "      <td>[1.72-71.8]</td>\n",
              "      <td>Nao</td>\n",
              "      <td>Nao</td>\n",
              "    </tr>\n",
              "    <tr>\n",
              "      <th>6</th>\n",
              "      <td>M</td>\n",
              "      <td>Sim</td>\n",
              "      <td>Sim</td>\n",
              "      <td>Nao</td>\n",
              "      <td>Interropido</td>\n",
              "      <td>Nao</td>\n",
              "      <td>Nao</td>\n",
              "      <td>Sim</td>\n",
              "      <td>Nao</td>\n",
              "      <td>Nao</td>\n",
              "      <td>...</td>\n",
              "      <td>Angina Instavel</td>\n",
              "      <td>Tronco</td>\n",
              "      <td>Sem mamaria</td>\n",
              "      <td>Nao</td>\n",
              "      <td>[71-95]</td>\n",
              "      <td>[76-85)</td>\n",
              "      <td>[1.88-2)</td>\n",
              "      <td>[1.67-1.72)</td>\n",
              "      <td>Nao</td>\n",
              "      <td>Nao</td>\n",
              "    </tr>\n",
              "    <tr>\n",
              "      <th>7</th>\n",
              "      <td>F</td>\n",
              "      <td>Sim</td>\n",
              "      <td>Sim</td>\n",
              "      <td>Nao</td>\n",
              "      <td>Nao</td>\n",
              "      <td>Nao</td>\n",
              "      <td>Sim</td>\n",
              "      <td>Sim</td>\n",
              "      <td>Nao</td>\n",
              "      <td>Nao</td>\n",
              "      <td>...</td>\n",
              "      <td>Indicacao Anatomica</td>\n",
              "      <td>Triarterial</td>\n",
              "      <td>Sem mamaria</td>\n",
              "      <td>Nao</td>\n",
              "      <td>[71-95]</td>\n",
              "      <td>[62.5-70)</td>\n",
              "      <td>[1.66-1.78)</td>\n",
              "      <td>[1.56-1.62)</td>\n",
              "      <td>Sim</td>\n",
              "      <td>Nao</td>\n",
              "    </tr>\n",
              "    <tr>\n",
              "      <th>8</th>\n",
              "      <td>M</td>\n",
              "      <td>Sim</td>\n",
              "      <td>Sim</td>\n",
              "      <td>Nao</td>\n",
              "      <td>Nao</td>\n",
              "      <td>Nao</td>\n",
              "      <td>Nao</td>\n",
              "      <td>Sim</td>\n",
              "      <td>Nao</td>\n",
              "      <td>Nao</td>\n",
              "      <td>...</td>\n",
              "      <td>Angina Estavel</td>\n",
              "      <td>Uniarterial</td>\n",
              "      <td>Sem mamaria</td>\n",
              "      <td>Nao</td>\n",
              "      <td>[65-71)</td>\n",
              "      <td>[85-148]</td>\n",
              "      <td>[2-11.9]</td>\n",
              "      <td>[1.67-1.72)</td>\n",
              "      <td>Nao</td>\n",
              "      <td>Nao</td>\n",
              "    </tr>\n",
              "    <tr>\n",
              "      <th>9</th>\n",
              "      <td>M</td>\n",
              "      <td>Sim</td>\n",
              "      <td>Sim</td>\n",
              "      <td>Nao</td>\n",
              "      <td>Interropido</td>\n",
              "      <td>Nao</td>\n",
              "      <td>Nao</td>\n",
              "      <td>Nao</td>\n",
              "      <td>Nao</td>\n",
              "      <td>Nao</td>\n",
              "      <td>...</td>\n",
              "      <td>Angina Estavel</td>\n",
              "      <td>Biarterial</td>\n",
              "      <td>Com mamaria</td>\n",
              "      <td>Nao</td>\n",
              "      <td>[60-65)</td>\n",
              "      <td>[70-76)</td>\n",
              "      <td>[1.78-1.88)</td>\n",
              "      <td>[1.72-71.8]</td>\n",
              "      <td>Nao</td>\n",
              "      <td>Nao</td>\n",
              "    </tr>\n",
              "  </tbody>\n",
              "</table>\n",
              "<p>10 rows × 22 columns</p>\n",
              "</div>\n",
              "      <button class=\"colab-df-convert\" onclick=\"convertToInteractive('df-cdc3d946-dfbd-4691-b195-ef36a3f83fc1')\"\n",
              "              title=\"Convert this dataframe to an interactive table.\"\n",
              "              style=\"display:none;\">\n",
              "        \n",
              "  <svg xmlns=\"http://www.w3.org/2000/svg\" height=\"24px\"viewBox=\"0 0 24 24\"\n",
              "       width=\"24px\">\n",
              "    <path d=\"M0 0h24v24H0V0z\" fill=\"none\"/>\n",
              "    <path d=\"M18.56 5.44l.94 2.06.94-2.06 2.06-.94-2.06-.94-.94-2.06-.94 2.06-2.06.94zm-11 1L8.5 8.5l.94-2.06 2.06-.94-2.06-.94L8.5 2.5l-.94 2.06-2.06.94zm10 10l.94 2.06.94-2.06 2.06-.94-2.06-.94-.94-2.06-.94 2.06-2.06.94z\"/><path d=\"M17.41 7.96l-1.37-1.37c-.4-.4-.92-.59-1.43-.59-.52 0-1.04.2-1.43.59L10.3 9.45l-7.72 7.72c-.78.78-.78 2.05 0 2.83L4 21.41c.39.39.9.59 1.41.59.51 0 1.02-.2 1.41-.59l7.78-7.78 2.81-2.81c.8-.78.8-2.07 0-2.86zM5.41 20L4 18.59l7.72-7.72 1.47 1.35L5.41 20z\"/>\n",
              "  </svg>\n",
              "      </button>\n",
              "      \n",
              "  <style>\n",
              "    .colab-df-container {\n",
              "      display:flex;\n",
              "      flex-wrap:wrap;\n",
              "      gap: 12px;\n",
              "    }\n",
              "\n",
              "    .colab-df-convert {\n",
              "      background-color: #E8F0FE;\n",
              "      border: none;\n",
              "      border-radius: 50%;\n",
              "      cursor: pointer;\n",
              "      display: none;\n",
              "      fill: #1967D2;\n",
              "      height: 32px;\n",
              "      padding: 0 0 0 0;\n",
              "      width: 32px;\n",
              "    }\n",
              "\n",
              "    .colab-df-convert:hover {\n",
              "      background-color: #E2EBFA;\n",
              "      box-shadow: 0px 1px 2px rgba(60, 64, 67, 0.3), 0px 1px 3px 1px rgba(60, 64, 67, 0.15);\n",
              "      fill: #174EA6;\n",
              "    }\n",
              "\n",
              "    [theme=dark] .colab-df-convert {\n",
              "      background-color: #3B4455;\n",
              "      fill: #D2E3FC;\n",
              "    }\n",
              "\n",
              "    [theme=dark] .colab-df-convert:hover {\n",
              "      background-color: #434B5C;\n",
              "      box-shadow: 0px 1px 3px 1px rgba(0, 0, 0, 0.15);\n",
              "      filter: drop-shadow(0px 1px 2px rgba(0, 0, 0, 0.3));\n",
              "      fill: #FFFFFF;\n",
              "    }\n",
              "  </style>\n",
              "\n",
              "      <script>\n",
              "        const buttonEl =\n",
              "          document.querySelector('#df-cdc3d946-dfbd-4691-b195-ef36a3f83fc1 button.colab-df-convert');\n",
              "        buttonEl.style.display =\n",
              "          google.colab.kernel.accessAllowed ? 'block' : 'none';\n",
              "\n",
              "        async function convertToInteractive(key) {\n",
              "          const element = document.querySelector('#df-cdc3d946-dfbd-4691-b195-ef36a3f83fc1');\n",
              "          const dataTable =\n",
              "            await google.colab.kernel.invokeFunction('convertToInteractive',\n",
              "                                                     [key], {});\n",
              "          if (!dataTable) return;\n",
              "\n",
              "          const docLinkHtml = 'Like what you see? Visit the ' +\n",
              "            '<a target=\"_blank\" href=https://colab.research.google.com/notebooks/data_table.ipynb>data table notebook</a>'\n",
              "            + ' to learn more about interactive tables.';\n",
              "          element.innerHTML = '';\n",
              "          dataTable['output_type'] = 'display_data';\n",
              "          await google.colab.output.renderOutput(dataTable, element);\n",
              "          const docLink = document.createElement('div');\n",
              "          docLink.innerHTML = docLinkHtml;\n",
              "          element.appendChild(docLink);\n",
              "        }\n",
              "      </script>\n",
              "    </div>\n",
              "  </div>\n",
              "  "
            ]
          },
          "metadata": {},
          "execution_count": 22
        }
      ]
    },
    {
      "cell_type": "markdown",
      "source": [
        "### Dicionário de dados"
      ],
      "metadata": {
        "id": "bhXlqQdRpyYS"
      }
    },
    {
      "cell_type": "markdown",
      "source": [
        "Pessoas que fizeram cirurgia coronariana"
      ],
      "metadata": {
        "id": "O8zVywOL4jrd"
      }
    },
    {
      "cell_type": "markdown",
      "source": [
        "**ap = Antecedentes pessoais do paciente**"
      ],
      "metadata": {
        "id": "4ImV0Ov8r2vQ"
      }
    },
    {
      "cell_type": "markdown",
      "source": [
        "|Atributo|Significado|\n",
        "|---|---|\n",
        "|apHAS|Hipertensão Arterial Sistêmica |\n",
        "|apDM|Diabete Melito|\n",
        "|apAf|Antecedentes familiares|\n",
        "|apTabagismo|Tabagista; ou interrompeu a mais de 1 ano ou não fuma|\n",
        "|apDPOC|Doença pulmonar obstrutiva crônica|\n",
        "|apCreatinina|Creatinina > 1,5 (quadro de Insuficiência renal)|\n",
        "|apColesterol|Colesterol > 200 mg/dl (Dislipidemia)|\n",
        "|apTriglicérides|Triglicérides > 200 mg/dl (Dislipidemia)|\n",
        "|apVasculo|Vasculopatia Arterial Periférica|\n",
        "|apIAMPrevio|Teve infarto agudo do miocárdio anteriormente|\n"
      ],
      "metadata": {
        "id": "Vvh6yYskp3hR"
      }
    },
    {
      "cell_type": "markdown",
      "source": [
        "**eha = Estudo hemodinâmico atual**"
      ],
      "metadata": {
        "id": "EqkhOCOyuheP"
      }
    },
    {
      "cell_type": "markdown",
      "source": [
        "|Atributo|Significado|\n",
        "|---|---|\n",
        "|eha_ventriculograma|Função ventricular esquerda|"
      ],
      "metadata": {
        "id": "3rBRHsitun5O"
      }
    },
    {
      "cell_type": "markdown",
      "source": [
        "**dc = Diagnóstico Cardíaco**"
      ],
      "metadata": {
        "id": "Xa54pxUtsIEP"
      }
    },
    {
      "cell_type": "markdown",
      "source": [
        "|Atributo|Significado|\n",
        "|---|---|\n",
        "|dc_diag2|Diagnóstico Clínico Atual|\n",
        "|lesão|Número de artérias acometidas (Uniarterial, biarterial ou triarterial), sendo o Tronco de coronária esquerda TCE referenciado a parte.|\n",
        "|Pontes_Mamárias|Revascularização utilizando enxertos com artéria mamária|\n",
        "|QNP|Quadro neurológico prévio|\n",
        "|idadeCat||\n",
        "|pesoCat *||\n",
        "|areaCat|Área de superfície corpórea|\n",
        "|alturaCat *||"
      ],
      "metadata": {
        "id": "4PCUJQfhsVHn"
      }
    },
    {
      "cell_type": "markdown",
      "source": [
        "**classCOMPLICACOES** = se o paciente teve complicação após a cirurgia\n",
        "\n",
        "**enf_Obito** = se o paciente veio a óbito após a cirurgia"
      ],
      "metadata": {
        "id": "Y6HA61mlbQMN"
      }
    },
    {
      "cell_type": "markdown",
      "source": [
        "## Conhecendo a base de dados"
      ],
      "metadata": {
        "id": "yFkFcQx8gvNi"
      }
    },
    {
      "cell_type": "markdown",
      "source": [
        "Utilizando o describe()"
      ],
      "metadata": {
        "id": "mL3aVnmpOx_n"
      }
    },
    {
      "cell_type": "code",
      "source": [
        "dados.describe()"
      ],
      "metadata": {
        "id": "2o3gHGMKwRdd",
        "colab": {
          "base_uri": "https://localhost:8080/",
          "height": 286
        },
        "outputId": "226c1c74-d621-40a6-89fa-8e3182cd1ea5"
      },
      "execution_count": null,
      "outputs": [
        {
          "output_type": "execute_result",
          "data": {
            "text/plain": [
              "        SEXO apHas  apDm  apAf apTabagismo apDPOC apCreatinina apColesterol  \\\n",
              "count   8704  8704  8704  8704        8704   8704         8704         8704   \n",
              "unique     2     2     2     2           3      2            2            2   \n",
              "top        M   Sim   Nao   Nao         Nao    Nao          Nao          Sim   \n",
              "freq    6097  7278  5085  7308        4020   8353         7964         4764   \n",
              "\n",
              "       apTriglicerides apVasculo  ...        dc_diag2        Lesao  \\\n",
              "count             8704      8704  ...            8689         8704   \n",
              "unique               2         2  ...               4            5   \n",
              "top                Nao       Nao  ...  Angina Estavel  Triarterial   \n",
              "freq              7208      7974  ...            4575         4472   \n",
              "\n",
              "       Pontes_Mamarias   QNP idadeCat  pesoCat   areaCat    alturaCat  \\\n",
              "count             8704  8704     8704     8704      8704         8704   \n",
              "unique               2     2        5        5         5            5   \n",
              "top        Com mamaria   Nao  [65-71)  [76-85)  [2-11.9]  [1.72-71.8]   \n",
              "freq              8027  8281     1880     1820      1744         1897   \n",
              "\n",
              "       classCOMPLICACOES enf_Obito  \n",
              "count               8704      8704  \n",
              "unique                 2         2  \n",
              "top                  Nao       Nao  \n",
              "freq                5082      8279  \n",
              "\n",
              "[4 rows x 22 columns]"
            ],
            "text/html": [
              "\n",
              "  <div id=\"df-0df94dfa-ebc8-4890-8dfa-e5f9ef896e6e\">\n",
              "    <div class=\"colab-df-container\">\n",
              "      <div>\n",
              "<style scoped>\n",
              "    .dataframe tbody tr th:only-of-type {\n",
              "        vertical-align: middle;\n",
              "    }\n",
              "\n",
              "    .dataframe tbody tr th {\n",
              "        vertical-align: top;\n",
              "    }\n",
              "\n",
              "    .dataframe thead th {\n",
              "        text-align: right;\n",
              "    }\n",
              "</style>\n",
              "<table border=\"1\" class=\"dataframe\">\n",
              "  <thead>\n",
              "    <tr style=\"text-align: right;\">\n",
              "      <th></th>\n",
              "      <th>SEXO</th>\n",
              "      <th>apHas</th>\n",
              "      <th>apDm</th>\n",
              "      <th>apAf</th>\n",
              "      <th>apTabagismo</th>\n",
              "      <th>apDPOC</th>\n",
              "      <th>apCreatinina</th>\n",
              "      <th>apColesterol</th>\n",
              "      <th>apTriglicerides</th>\n",
              "      <th>apVasculo</th>\n",
              "      <th>...</th>\n",
              "      <th>dc_diag2</th>\n",
              "      <th>Lesao</th>\n",
              "      <th>Pontes_Mamarias</th>\n",
              "      <th>QNP</th>\n",
              "      <th>idadeCat</th>\n",
              "      <th>pesoCat</th>\n",
              "      <th>areaCat</th>\n",
              "      <th>alturaCat</th>\n",
              "      <th>classCOMPLICACOES</th>\n",
              "      <th>enf_Obito</th>\n",
              "    </tr>\n",
              "  </thead>\n",
              "  <tbody>\n",
              "    <tr>\n",
              "      <th>count</th>\n",
              "      <td>8704</td>\n",
              "      <td>8704</td>\n",
              "      <td>8704</td>\n",
              "      <td>8704</td>\n",
              "      <td>8704</td>\n",
              "      <td>8704</td>\n",
              "      <td>8704</td>\n",
              "      <td>8704</td>\n",
              "      <td>8704</td>\n",
              "      <td>8704</td>\n",
              "      <td>...</td>\n",
              "      <td>8689</td>\n",
              "      <td>8704</td>\n",
              "      <td>8704</td>\n",
              "      <td>8704</td>\n",
              "      <td>8704</td>\n",
              "      <td>8704</td>\n",
              "      <td>8704</td>\n",
              "      <td>8704</td>\n",
              "      <td>8704</td>\n",
              "      <td>8704</td>\n",
              "    </tr>\n",
              "    <tr>\n",
              "      <th>unique</th>\n",
              "      <td>2</td>\n",
              "      <td>2</td>\n",
              "      <td>2</td>\n",
              "      <td>2</td>\n",
              "      <td>3</td>\n",
              "      <td>2</td>\n",
              "      <td>2</td>\n",
              "      <td>2</td>\n",
              "      <td>2</td>\n",
              "      <td>2</td>\n",
              "      <td>...</td>\n",
              "      <td>4</td>\n",
              "      <td>5</td>\n",
              "      <td>2</td>\n",
              "      <td>2</td>\n",
              "      <td>5</td>\n",
              "      <td>5</td>\n",
              "      <td>5</td>\n",
              "      <td>5</td>\n",
              "      <td>2</td>\n",
              "      <td>2</td>\n",
              "    </tr>\n",
              "    <tr>\n",
              "      <th>top</th>\n",
              "      <td>M</td>\n",
              "      <td>Sim</td>\n",
              "      <td>Nao</td>\n",
              "      <td>Nao</td>\n",
              "      <td>Nao</td>\n",
              "      <td>Nao</td>\n",
              "      <td>Nao</td>\n",
              "      <td>Sim</td>\n",
              "      <td>Nao</td>\n",
              "      <td>Nao</td>\n",
              "      <td>...</td>\n",
              "      <td>Angina Estavel</td>\n",
              "      <td>Triarterial</td>\n",
              "      <td>Com mamaria</td>\n",
              "      <td>Nao</td>\n",
              "      <td>[65-71)</td>\n",
              "      <td>[76-85)</td>\n",
              "      <td>[2-11.9]</td>\n",
              "      <td>[1.72-71.8]</td>\n",
              "      <td>Nao</td>\n",
              "      <td>Nao</td>\n",
              "    </tr>\n",
              "    <tr>\n",
              "      <th>freq</th>\n",
              "      <td>6097</td>\n",
              "      <td>7278</td>\n",
              "      <td>5085</td>\n",
              "      <td>7308</td>\n",
              "      <td>4020</td>\n",
              "      <td>8353</td>\n",
              "      <td>7964</td>\n",
              "      <td>4764</td>\n",
              "      <td>7208</td>\n",
              "      <td>7974</td>\n",
              "      <td>...</td>\n",
              "      <td>4575</td>\n",
              "      <td>4472</td>\n",
              "      <td>8027</td>\n",
              "      <td>8281</td>\n",
              "      <td>1880</td>\n",
              "      <td>1820</td>\n",
              "      <td>1744</td>\n",
              "      <td>1897</td>\n",
              "      <td>5082</td>\n",
              "      <td>8279</td>\n",
              "    </tr>\n",
              "  </tbody>\n",
              "</table>\n",
              "<p>4 rows × 22 columns</p>\n",
              "</div>\n",
              "      <button class=\"colab-df-convert\" onclick=\"convertToInteractive('df-0df94dfa-ebc8-4890-8dfa-e5f9ef896e6e')\"\n",
              "              title=\"Convert this dataframe to an interactive table.\"\n",
              "              style=\"display:none;\">\n",
              "        \n",
              "  <svg xmlns=\"http://www.w3.org/2000/svg\" height=\"24px\"viewBox=\"0 0 24 24\"\n",
              "       width=\"24px\">\n",
              "    <path d=\"M0 0h24v24H0V0z\" fill=\"none\"/>\n",
              "    <path d=\"M18.56 5.44l.94 2.06.94-2.06 2.06-.94-2.06-.94-.94-2.06-.94 2.06-2.06.94zm-11 1L8.5 8.5l.94-2.06 2.06-.94-2.06-.94L8.5 2.5l-.94 2.06-2.06.94zm10 10l.94 2.06.94-2.06 2.06-.94-2.06-.94-.94-2.06-.94 2.06-2.06.94z\"/><path d=\"M17.41 7.96l-1.37-1.37c-.4-.4-.92-.59-1.43-.59-.52 0-1.04.2-1.43.59L10.3 9.45l-7.72 7.72c-.78.78-.78 2.05 0 2.83L4 21.41c.39.39.9.59 1.41.59.51 0 1.02-.2 1.41-.59l7.78-7.78 2.81-2.81c.8-.78.8-2.07 0-2.86zM5.41 20L4 18.59l7.72-7.72 1.47 1.35L5.41 20z\"/>\n",
              "  </svg>\n",
              "      </button>\n",
              "      \n",
              "  <style>\n",
              "    .colab-df-container {\n",
              "      display:flex;\n",
              "      flex-wrap:wrap;\n",
              "      gap: 12px;\n",
              "    }\n",
              "\n",
              "    .colab-df-convert {\n",
              "      background-color: #E8F0FE;\n",
              "      border: none;\n",
              "      border-radius: 50%;\n",
              "      cursor: pointer;\n",
              "      display: none;\n",
              "      fill: #1967D2;\n",
              "      height: 32px;\n",
              "      padding: 0 0 0 0;\n",
              "      width: 32px;\n",
              "    }\n",
              "\n",
              "    .colab-df-convert:hover {\n",
              "      background-color: #E2EBFA;\n",
              "      box-shadow: 0px 1px 2px rgba(60, 64, 67, 0.3), 0px 1px 3px 1px rgba(60, 64, 67, 0.15);\n",
              "      fill: #174EA6;\n",
              "    }\n",
              "\n",
              "    [theme=dark] .colab-df-convert {\n",
              "      background-color: #3B4455;\n",
              "      fill: #D2E3FC;\n",
              "    }\n",
              "\n",
              "    [theme=dark] .colab-df-convert:hover {\n",
              "      background-color: #434B5C;\n",
              "      box-shadow: 0px 1px 3px 1px rgba(0, 0, 0, 0.15);\n",
              "      filter: drop-shadow(0px 1px 2px rgba(0, 0, 0, 0.3));\n",
              "      fill: #FFFFFF;\n",
              "    }\n",
              "  </style>\n",
              "\n",
              "      <script>\n",
              "        const buttonEl =\n",
              "          document.querySelector('#df-0df94dfa-ebc8-4890-8dfa-e5f9ef896e6e button.colab-df-convert');\n",
              "        buttonEl.style.display =\n",
              "          google.colab.kernel.accessAllowed ? 'block' : 'none';\n",
              "\n",
              "        async function convertToInteractive(key) {\n",
              "          const element = document.querySelector('#df-0df94dfa-ebc8-4890-8dfa-e5f9ef896e6e');\n",
              "          const dataTable =\n",
              "            await google.colab.kernel.invokeFunction('convertToInteractive',\n",
              "                                                     [key], {});\n",
              "          if (!dataTable) return;\n",
              "\n",
              "          const docLinkHtml = 'Like what you see? Visit the ' +\n",
              "            '<a target=\"_blank\" href=https://colab.research.google.com/notebooks/data_table.ipynb>data table notebook</a>'\n",
              "            + ' to learn more about interactive tables.';\n",
              "          element.innerHTML = '';\n",
              "          dataTable['output_type'] = 'display_data';\n",
              "          await google.colab.output.renderOutput(dataTable, element);\n",
              "          const docLink = document.createElement('div');\n",
              "          docLink.innerHTML = docLinkHtml;\n",
              "          element.appendChild(docLink);\n",
              "        }\n",
              "      </script>\n",
              "    </div>\n",
              "  </div>\n",
              "  "
            ]
          },
          "metadata": {},
          "execution_count": 23
        }
      ]
    },
    {
      "cell_type": "markdown",
      "source": [
        "Utilizando o info()"
      ],
      "metadata": {
        "id": "Pls9HflcO1ul"
      }
    },
    {
      "cell_type": "code",
      "source": [
        "dados.info()"
      ],
      "metadata": {
        "id": "qi-atpIrg-PT",
        "colab": {
          "base_uri": "https://localhost:8080/"
        },
        "outputId": "b26c4153-8520-4989-bfd8-af4b39330df3"
      },
      "execution_count": null,
      "outputs": [
        {
          "output_type": "stream",
          "name": "stdout",
          "text": [
            "<class 'pandas.core.frame.DataFrame'>\n",
            "RangeIndex: 8704 entries, 0 to 8703\n",
            "Data columns (total 22 columns):\n",
            " #   Column               Non-Null Count  Dtype \n",
            "---  ------               --------------  ----- \n",
            " 0   SEXO                 8704 non-null   object\n",
            " 1   apHas                8704 non-null   object\n",
            " 2   apDm                 8704 non-null   object\n",
            " 3   apAf                 8704 non-null   object\n",
            " 4   apTabagismo          8704 non-null   object\n",
            " 5   apDPOC               8704 non-null   object\n",
            " 6   apCreatinina         8704 non-null   object\n",
            " 7   apColesterol         8704 non-null   object\n",
            " 8   apTriglicerides      8704 non-null   object\n",
            " 9   apVasculo            8704 non-null   object\n",
            " 10  apIAMPrevio          8704 non-null   object\n",
            " 11  eha_ventriculograma  8684 non-null   object\n",
            " 12  dc_diag2             8689 non-null   object\n",
            " 13  Lesao                8704 non-null   object\n",
            " 14  Pontes_Mamarias      8704 non-null   object\n",
            " 15  QNP                  8704 non-null   object\n",
            " 16  idadeCat             8704 non-null   object\n",
            " 17  pesoCat              8704 non-null   object\n",
            " 18  areaCat              8704 non-null   object\n",
            " 19  alturaCat            8704 non-null   object\n",
            " 20  classCOMPLICACOES    8704 non-null   object\n",
            " 21  enf_Obito            8704 non-null   object\n",
            "dtypes: object(22)\n",
            "memory usage: 1.5+ MB\n"
          ]
        }
      ]
    },
    {
      "cell_type": "markdown",
      "source": [
        "type()"
      ],
      "metadata": {
        "id": "MHWYeOKRO6dG"
      }
    },
    {
      "cell_type": "code",
      "source": [
        "type(dados)"
      ],
      "metadata": {
        "id": "s673revxh1vT",
        "colab": {
          "base_uri": "https://localhost:8080/"
        },
        "outputId": "46b5f036-7638-4a42-8ff8-bc9db7cefd8c"
      },
      "execution_count": null,
      "outputs": [
        {
          "output_type": "execute_result",
          "data": {
            "text/plain": [
              "pandas.core.frame.DataFrame"
            ]
          },
          "metadata": {},
          "execution_count": 26
        }
      ]
    },
    {
      "cell_type": "markdown",
      "source": [
        "shape"
      ],
      "metadata": {
        "id": "b_OLjhyqO-As"
      }
    },
    {
      "cell_type": "code",
      "source": [
        "dados.shape"
      ],
      "metadata": {
        "id": "IuBj_L9sizMD",
        "colab": {
          "base_uri": "https://localhost:8080/"
        },
        "outputId": "15ca7150-71de-47c3-d974-c2e3ea0b86f5"
      },
      "execution_count": null,
      "outputs": [
        {
          "output_type": "execute_result",
          "data": {
            "text/plain": [
              "(8704, 22)"
            ]
          },
          "metadata": {},
          "execution_count": 27
        }
      ]
    },
    {
      "cell_type": "code",
      "source": [
        "print('A base de dados apresenta {} registros e {} variáveis'.format( dados.shape[0],dados.shape[1] ))"
      ],
      "metadata": {
        "id": "ivWfmPPjkSKE",
        "colab": {
          "base_uri": "https://localhost:8080/"
        },
        "outputId": "3f5e4dee-2fe8-4079-e41d-fbdb1e16a18e"
      },
      "execution_count": null,
      "outputs": [
        {
          "output_type": "stream",
          "name": "stdout",
          "text": [
            "A base de dados apresenta 8704 registros e 22 variáveis\n"
          ]
        }
      ]
    },
    {
      "cell_type": "markdown",
      "source": [
        "Visualizando uma coluna"
      ],
      "metadata": {
        "id": "C86_yxEwPHrc"
      }
    },
    {
      "cell_type": "code",
      "source": [
        "dados['apColesterol']"
      ],
      "metadata": {
        "id": "f7OgnXwJqofT",
        "colab": {
          "base_uri": "https://localhost:8080/"
        },
        "outputId": "32156ce2-fff6-41bf-fb42-a909eb9c51bf"
      },
      "execution_count": null,
      "outputs": [
        {
          "output_type": "execute_result",
          "data": {
            "text/plain": [
              "0       Nao\n",
              "1       Sim\n",
              "2       Nao\n",
              "3       Sim\n",
              "4       Nao\n",
              "       ... \n",
              "8699    Nao\n",
              "8700    Sim\n",
              "8701    Nao\n",
              "8702    Sim\n",
              "8703    Nao\n",
              "Name: apColesterol, Length: 8704, dtype: object"
            ]
          },
          "metadata": {},
          "execution_count": 29
        }
      ]
    },
    {
      "cell_type": "code",
      "source": [
        "type(dados['apColesterol'])"
      ],
      "metadata": {
        "id": "URK5trJJQjmm",
        "colab": {
          "base_uri": "https://localhost:8080/"
        },
        "outputId": "6b14602f-e7b3-442c-c6b8-5b730afaf25d"
      },
      "execution_count": null,
      "outputs": [
        {
          "output_type": "execute_result",
          "data": {
            "text/plain": [
              "pandas.core.series.Series"
            ]
          },
          "metadata": {},
          "execution_count": 30
        }
      ]
    },
    {
      "cell_type": "markdown",
      "source": [
        "## Excluindo variávies"
      ],
      "metadata": {
        "id": "wfR7mHlpoTSr"
      }
    },
    {
      "cell_type": "markdown",
      "source": [
        "Há diferentes formas de excluir uma variável, mas utilizaremos o drop()"
      ],
      "metadata": {
        "id": "cSP4j2HStmxc"
      }
    },
    {
      "cell_type": "markdown",
      "source": [
        "No caso do método drop(), precisaremos especificar o eixo em que se dará a exclusão, uma vez que ele pode atuar especificamente em linhas ou colunas. Então, escreveremos axis = 1, afinal o eixo 0 corresponde às linhas e o 1 corresponde às colunas."
      ],
      "metadata": {
        "id": "TVFlq90atqzr"
      }
    },
    {
      "cell_type": "code",
      "source": [
        "dados.drop(['apCreatinina', 'apColesterol', 'apTriglicerides', 'apVasculo', 'eha_ventriculograma', 'Lesao', 'Pontes_Mamarias', 'QNP', 'areaCat'],axis = 1, inplace = True)"
      ],
      "metadata": {
        "id": "0d6w6jN7kVtT"
      },
      "execution_count": null,
      "outputs": []
    },
    {
      "cell_type": "code",
      "source": [
        "dados.shape"
      ],
      "metadata": {
        "id": "U2v8A2fZlV2T",
        "colab": {
          "base_uri": "https://localhost:8080/"
        },
        "outputId": "66ce00f5-c25d-4f08-99e5-c4fdfe1078d4"
      },
      "execution_count": null,
      "outputs": [
        {
          "output_type": "execute_result",
          "data": {
            "text/plain": [
              "(8704, 13)"
            ]
          },
          "metadata": {},
          "execution_count": 32
        }
      ]
    },
    {
      "cell_type": "code",
      "source": [
        "dados.head()"
      ],
      "metadata": {
        "id": "2O7LzwkCnksz",
        "colab": {
          "base_uri": "https://localhost:8080/",
          "height": 357
        },
        "outputId": "d605cf86-2373-4c26-ca4f-7f3d9d2f3d1a"
      },
      "execution_count": null,
      "outputs": [
        {
          "output_type": "execute_result",
          "data": {
            "text/plain": [
              "  SEXO apHas apDm apAf  apTabagismo apDPOC apIAMPrevio             dc_diag2  \\\n",
              "0    M   Sim  Nao  Nao  Interropido    Nao         Sim      Angina Instavel   \n",
              "1    F   Sim  Sim  Nao          Nao    Nao         Nao  Isquemia Silenciosa   \n",
              "2    M   Sim  Sim  Nao          Nao    Nao         Sim      Angina Instavel   \n",
              "3    M   Sim  Nao  Nao  Interropido    Sim         Nao       Angina Estavel   \n",
              "4    M   Sim  Nao  Nao        Atual    Nao         Nao       Angina Estavel   \n",
              "\n",
              "  idadeCat    pesoCat    alturaCat classCOMPLICACOES enf_Obito  \n",
              "0  [71-95]  [62.5-70)  [1.62-1.67)               Sim       Nao  \n",
              "1  [60-65)  [62.5-70)  [1.31-1.56)               Sim       Nao  \n",
              "2  [65-71)    [70-76)  [1.62-1.67)               Nao       Nao  \n",
              "3  [71-95]  [37-62.5)  [1.62-1.67)               Sim       Nao  \n",
              "4  [18-54)   [85-148]  [1.72-71.8]               Sim       Nao  "
            ],
            "text/html": [
              "\n",
              "  <div id=\"df-e317baaa-ad3b-460d-a7c7-1d22a80c31bd\">\n",
              "    <div class=\"colab-df-container\">\n",
              "      <div>\n",
              "<style scoped>\n",
              "    .dataframe tbody tr th:only-of-type {\n",
              "        vertical-align: middle;\n",
              "    }\n",
              "\n",
              "    .dataframe tbody tr th {\n",
              "        vertical-align: top;\n",
              "    }\n",
              "\n",
              "    .dataframe thead th {\n",
              "        text-align: right;\n",
              "    }\n",
              "</style>\n",
              "<table border=\"1\" class=\"dataframe\">\n",
              "  <thead>\n",
              "    <tr style=\"text-align: right;\">\n",
              "      <th></th>\n",
              "      <th>SEXO</th>\n",
              "      <th>apHas</th>\n",
              "      <th>apDm</th>\n",
              "      <th>apAf</th>\n",
              "      <th>apTabagismo</th>\n",
              "      <th>apDPOC</th>\n",
              "      <th>apIAMPrevio</th>\n",
              "      <th>dc_diag2</th>\n",
              "      <th>idadeCat</th>\n",
              "      <th>pesoCat</th>\n",
              "      <th>alturaCat</th>\n",
              "      <th>classCOMPLICACOES</th>\n",
              "      <th>enf_Obito</th>\n",
              "    </tr>\n",
              "  </thead>\n",
              "  <tbody>\n",
              "    <tr>\n",
              "      <th>0</th>\n",
              "      <td>M</td>\n",
              "      <td>Sim</td>\n",
              "      <td>Nao</td>\n",
              "      <td>Nao</td>\n",
              "      <td>Interropido</td>\n",
              "      <td>Nao</td>\n",
              "      <td>Sim</td>\n",
              "      <td>Angina Instavel</td>\n",
              "      <td>[71-95]</td>\n",
              "      <td>[62.5-70)</td>\n",
              "      <td>[1.62-1.67)</td>\n",
              "      <td>Sim</td>\n",
              "      <td>Nao</td>\n",
              "    </tr>\n",
              "    <tr>\n",
              "      <th>1</th>\n",
              "      <td>F</td>\n",
              "      <td>Sim</td>\n",
              "      <td>Sim</td>\n",
              "      <td>Nao</td>\n",
              "      <td>Nao</td>\n",
              "      <td>Nao</td>\n",
              "      <td>Nao</td>\n",
              "      <td>Isquemia Silenciosa</td>\n",
              "      <td>[60-65)</td>\n",
              "      <td>[62.5-70)</td>\n",
              "      <td>[1.31-1.56)</td>\n",
              "      <td>Sim</td>\n",
              "      <td>Nao</td>\n",
              "    </tr>\n",
              "    <tr>\n",
              "      <th>2</th>\n",
              "      <td>M</td>\n",
              "      <td>Sim</td>\n",
              "      <td>Sim</td>\n",
              "      <td>Nao</td>\n",
              "      <td>Nao</td>\n",
              "      <td>Nao</td>\n",
              "      <td>Sim</td>\n",
              "      <td>Angina Instavel</td>\n",
              "      <td>[65-71)</td>\n",
              "      <td>[70-76)</td>\n",
              "      <td>[1.62-1.67)</td>\n",
              "      <td>Nao</td>\n",
              "      <td>Nao</td>\n",
              "    </tr>\n",
              "    <tr>\n",
              "      <th>3</th>\n",
              "      <td>M</td>\n",
              "      <td>Sim</td>\n",
              "      <td>Nao</td>\n",
              "      <td>Nao</td>\n",
              "      <td>Interropido</td>\n",
              "      <td>Sim</td>\n",
              "      <td>Nao</td>\n",
              "      <td>Angina Estavel</td>\n",
              "      <td>[71-95]</td>\n",
              "      <td>[37-62.5)</td>\n",
              "      <td>[1.62-1.67)</td>\n",
              "      <td>Sim</td>\n",
              "      <td>Nao</td>\n",
              "    </tr>\n",
              "    <tr>\n",
              "      <th>4</th>\n",
              "      <td>M</td>\n",
              "      <td>Sim</td>\n",
              "      <td>Nao</td>\n",
              "      <td>Nao</td>\n",
              "      <td>Atual</td>\n",
              "      <td>Nao</td>\n",
              "      <td>Nao</td>\n",
              "      <td>Angina Estavel</td>\n",
              "      <td>[18-54)</td>\n",
              "      <td>[85-148]</td>\n",
              "      <td>[1.72-71.8]</td>\n",
              "      <td>Sim</td>\n",
              "      <td>Nao</td>\n",
              "    </tr>\n",
              "  </tbody>\n",
              "</table>\n",
              "</div>\n",
              "      <button class=\"colab-df-convert\" onclick=\"convertToInteractive('df-e317baaa-ad3b-460d-a7c7-1d22a80c31bd')\"\n",
              "              title=\"Convert this dataframe to an interactive table.\"\n",
              "              style=\"display:none;\">\n",
              "        \n",
              "  <svg xmlns=\"http://www.w3.org/2000/svg\" height=\"24px\"viewBox=\"0 0 24 24\"\n",
              "       width=\"24px\">\n",
              "    <path d=\"M0 0h24v24H0V0z\" fill=\"none\"/>\n",
              "    <path d=\"M18.56 5.44l.94 2.06.94-2.06 2.06-.94-2.06-.94-.94-2.06-.94 2.06-2.06.94zm-11 1L8.5 8.5l.94-2.06 2.06-.94-2.06-.94L8.5 2.5l-.94 2.06-2.06.94zm10 10l.94 2.06.94-2.06 2.06-.94-2.06-.94-.94-2.06-.94 2.06-2.06.94z\"/><path d=\"M17.41 7.96l-1.37-1.37c-.4-.4-.92-.59-1.43-.59-.52 0-1.04.2-1.43.59L10.3 9.45l-7.72 7.72c-.78.78-.78 2.05 0 2.83L4 21.41c.39.39.9.59 1.41.59.51 0 1.02-.2 1.41-.59l7.78-7.78 2.81-2.81c.8-.78.8-2.07 0-2.86zM5.41 20L4 18.59l7.72-7.72 1.47 1.35L5.41 20z\"/>\n",
              "  </svg>\n",
              "      </button>\n",
              "      \n",
              "  <style>\n",
              "    .colab-df-container {\n",
              "      display:flex;\n",
              "      flex-wrap:wrap;\n",
              "      gap: 12px;\n",
              "    }\n",
              "\n",
              "    .colab-df-convert {\n",
              "      background-color: #E8F0FE;\n",
              "      border: none;\n",
              "      border-radius: 50%;\n",
              "      cursor: pointer;\n",
              "      display: none;\n",
              "      fill: #1967D2;\n",
              "      height: 32px;\n",
              "      padding: 0 0 0 0;\n",
              "      width: 32px;\n",
              "    }\n",
              "\n",
              "    .colab-df-convert:hover {\n",
              "      background-color: #E2EBFA;\n",
              "      box-shadow: 0px 1px 2px rgba(60, 64, 67, 0.3), 0px 1px 3px 1px rgba(60, 64, 67, 0.15);\n",
              "      fill: #174EA6;\n",
              "    }\n",
              "\n",
              "    [theme=dark] .colab-df-convert {\n",
              "      background-color: #3B4455;\n",
              "      fill: #D2E3FC;\n",
              "    }\n",
              "\n",
              "    [theme=dark] .colab-df-convert:hover {\n",
              "      background-color: #434B5C;\n",
              "      box-shadow: 0px 1px 3px 1px rgba(0, 0, 0, 0.15);\n",
              "      filter: drop-shadow(0px 1px 2px rgba(0, 0, 0, 0.3));\n",
              "      fill: #FFFFFF;\n",
              "    }\n",
              "  </style>\n",
              "\n",
              "      <script>\n",
              "        const buttonEl =\n",
              "          document.querySelector('#df-e317baaa-ad3b-460d-a7c7-1d22a80c31bd button.colab-df-convert');\n",
              "        buttonEl.style.display =\n",
              "          google.colab.kernel.accessAllowed ? 'block' : 'none';\n",
              "\n",
              "        async function convertToInteractive(key) {\n",
              "          const element = document.querySelector('#df-e317baaa-ad3b-460d-a7c7-1d22a80c31bd');\n",
              "          const dataTable =\n",
              "            await google.colab.kernel.invokeFunction('convertToInteractive',\n",
              "                                                     [key], {});\n",
              "          if (!dataTable) return;\n",
              "\n",
              "          const docLinkHtml = 'Like what you see? Visit the ' +\n",
              "            '<a target=\"_blank\" href=https://colab.research.google.com/notebooks/data_table.ipynb>data table notebook</a>'\n",
              "            + ' to learn more about interactive tables.';\n",
              "          element.innerHTML = '';\n",
              "          dataTable['output_type'] = 'display_data';\n",
              "          await google.colab.output.renderOutput(dataTable, element);\n",
              "          const docLink = document.createElement('div');\n",
              "          docLink.innerHTML = docLinkHtml;\n",
              "          element.appendChild(docLink);\n",
              "        }\n",
              "      </script>\n",
              "    </div>\n",
              "  </div>\n",
              "  "
            ]
          },
          "metadata": {},
          "execution_count": 33
        }
      ]
    },
    {
      "cell_type": "markdown",
      "source": [
        "## Renomeando colunas"
      ],
      "metadata": {
        "id": "RWUFhI1KvzJE"
      }
    },
    {
      "cell_type": "code",
      "source": [
        "dados.info()"
      ],
      "metadata": {
        "id": "4hHjd6YZwmUU",
        "colab": {
          "base_uri": "https://localhost:8080/"
        },
        "outputId": "5f0b11f1-4ae2-43b2-c41f-30c8ccf47342"
      },
      "execution_count": null,
      "outputs": [
        {
          "output_type": "stream",
          "name": "stdout",
          "text": [
            "<class 'pandas.core.frame.DataFrame'>\n",
            "RangeIndex: 8704 entries, 0 to 8703\n",
            "Data columns (total 13 columns):\n",
            " #   Column             Non-Null Count  Dtype \n",
            "---  ------             --------------  ----- \n",
            " 0   SEXO               8704 non-null   object\n",
            " 1   apHas              8704 non-null   object\n",
            " 2   apDm               8704 non-null   object\n",
            " 3   apAf               8704 non-null   object\n",
            " 4   apTabagismo        8704 non-null   object\n",
            " 5   apDPOC             8704 non-null   object\n",
            " 6   apIAMPrevio        8704 non-null   object\n",
            " 7   dc_diag2           8689 non-null   object\n",
            " 8   idadeCat           8704 non-null   object\n",
            " 9   pesoCat            8704 non-null   object\n",
            " 10  alturaCat          8704 non-null   object\n",
            " 11  classCOMPLICACOES  8704 non-null   object\n",
            " 12  enf_Obito          8704 non-null   object\n",
            "dtypes: object(13)\n",
            "memory usage: 884.1+ KB\n"
          ]
        }
      ]
    },
    {
      "cell_type": "markdown",
      "source": [
        "Para renomear uma coluna em um DataFrame Pandas, você pode usar o método rename() e passar um dicionário que mapeia o nome antigo da coluna para o nome novo da coluna."
      ],
      "metadata": {
        "id": "YGArEKwhv2KN"
      }
    },
    {
      "cell_type": "code",
      "source": [
        "dados.rename(columns={'SEXO':'sexo',\n",
        "              'apHas':'aHipertensao',\n",
        "              'apDm':'aDiabetes',\n",
        "              'apAf':'aFamiliar', \n",
        "              'apTabagismo':'aTabagismo',\n",
        "              'apDPOC':'aDPulmonar',\n",
        "              'apIAMPrevio':'aInfarto',\n",
        "              'dc_diag2':'diagAtual',\n",
        "              'classCOMPLICACOES': 'complicacoes',\n",
        "              'enf_Obito':'obito'}, inplace = True)"
      ],
      "metadata": {
        "id": "A99wQkAXu7-m"
      },
      "execution_count": null,
      "outputs": []
    },
    {
      "cell_type": "code",
      "source": [
        "#verificando as mudanças\n",
        "\n",
        "dados.head()"
      ],
      "metadata": {
        "id": "ywn6rZlTySrV",
        "colab": {
          "base_uri": "https://localhost:8080/",
          "height": 357
        },
        "outputId": "aaa13b0b-0914-4bc2-92ef-cce7dcf532dd"
      },
      "execution_count": null,
      "outputs": [
        {
          "output_type": "execute_result",
          "data": {
            "text/plain": [
              "  sexo aHipertensao aDiabetes aFamiliar   aTabagismo aDPulmonar aInfarto  \\\n",
              "0    M          Sim       Nao       Nao  Interropido        Nao      Sim   \n",
              "1    F          Sim       Sim       Nao          Nao        Nao      Nao   \n",
              "2    M          Sim       Sim       Nao          Nao        Nao      Sim   \n",
              "3    M          Sim       Nao       Nao  Interropido        Sim      Nao   \n",
              "4    M          Sim       Nao       Nao        Atual        Nao      Nao   \n",
              "\n",
              "             diagAtual idadeCat    pesoCat    alturaCat complicacoes obito  \n",
              "0      Angina Instavel  [71-95]  [62.5-70)  [1.62-1.67)          Sim   Nao  \n",
              "1  Isquemia Silenciosa  [60-65)  [62.5-70)  [1.31-1.56)          Sim   Nao  \n",
              "2      Angina Instavel  [65-71)    [70-76)  [1.62-1.67)          Nao   Nao  \n",
              "3       Angina Estavel  [71-95]  [37-62.5)  [1.62-1.67)          Sim   Nao  \n",
              "4       Angina Estavel  [18-54)   [85-148]  [1.72-71.8]          Sim   Nao  "
            ],
            "text/html": [
              "\n",
              "  <div id=\"df-50f7a096-1a16-4cbb-8048-1e96aeeadbd9\">\n",
              "    <div class=\"colab-df-container\">\n",
              "      <div>\n",
              "<style scoped>\n",
              "    .dataframe tbody tr th:only-of-type {\n",
              "        vertical-align: middle;\n",
              "    }\n",
              "\n",
              "    .dataframe tbody tr th {\n",
              "        vertical-align: top;\n",
              "    }\n",
              "\n",
              "    .dataframe thead th {\n",
              "        text-align: right;\n",
              "    }\n",
              "</style>\n",
              "<table border=\"1\" class=\"dataframe\">\n",
              "  <thead>\n",
              "    <tr style=\"text-align: right;\">\n",
              "      <th></th>\n",
              "      <th>sexo</th>\n",
              "      <th>aHipertensao</th>\n",
              "      <th>aDiabetes</th>\n",
              "      <th>aFamiliar</th>\n",
              "      <th>aTabagismo</th>\n",
              "      <th>aDPulmonar</th>\n",
              "      <th>aInfarto</th>\n",
              "      <th>diagAtual</th>\n",
              "      <th>idadeCat</th>\n",
              "      <th>pesoCat</th>\n",
              "      <th>alturaCat</th>\n",
              "      <th>complicacoes</th>\n",
              "      <th>obito</th>\n",
              "    </tr>\n",
              "  </thead>\n",
              "  <tbody>\n",
              "    <tr>\n",
              "      <th>0</th>\n",
              "      <td>M</td>\n",
              "      <td>Sim</td>\n",
              "      <td>Nao</td>\n",
              "      <td>Nao</td>\n",
              "      <td>Interropido</td>\n",
              "      <td>Nao</td>\n",
              "      <td>Sim</td>\n",
              "      <td>Angina Instavel</td>\n",
              "      <td>[71-95]</td>\n",
              "      <td>[62.5-70)</td>\n",
              "      <td>[1.62-1.67)</td>\n",
              "      <td>Sim</td>\n",
              "      <td>Nao</td>\n",
              "    </tr>\n",
              "    <tr>\n",
              "      <th>1</th>\n",
              "      <td>F</td>\n",
              "      <td>Sim</td>\n",
              "      <td>Sim</td>\n",
              "      <td>Nao</td>\n",
              "      <td>Nao</td>\n",
              "      <td>Nao</td>\n",
              "      <td>Nao</td>\n",
              "      <td>Isquemia Silenciosa</td>\n",
              "      <td>[60-65)</td>\n",
              "      <td>[62.5-70)</td>\n",
              "      <td>[1.31-1.56)</td>\n",
              "      <td>Sim</td>\n",
              "      <td>Nao</td>\n",
              "    </tr>\n",
              "    <tr>\n",
              "      <th>2</th>\n",
              "      <td>M</td>\n",
              "      <td>Sim</td>\n",
              "      <td>Sim</td>\n",
              "      <td>Nao</td>\n",
              "      <td>Nao</td>\n",
              "      <td>Nao</td>\n",
              "      <td>Sim</td>\n",
              "      <td>Angina Instavel</td>\n",
              "      <td>[65-71)</td>\n",
              "      <td>[70-76)</td>\n",
              "      <td>[1.62-1.67)</td>\n",
              "      <td>Nao</td>\n",
              "      <td>Nao</td>\n",
              "    </tr>\n",
              "    <tr>\n",
              "      <th>3</th>\n",
              "      <td>M</td>\n",
              "      <td>Sim</td>\n",
              "      <td>Nao</td>\n",
              "      <td>Nao</td>\n",
              "      <td>Interropido</td>\n",
              "      <td>Sim</td>\n",
              "      <td>Nao</td>\n",
              "      <td>Angina Estavel</td>\n",
              "      <td>[71-95]</td>\n",
              "      <td>[37-62.5)</td>\n",
              "      <td>[1.62-1.67)</td>\n",
              "      <td>Sim</td>\n",
              "      <td>Nao</td>\n",
              "    </tr>\n",
              "    <tr>\n",
              "      <th>4</th>\n",
              "      <td>M</td>\n",
              "      <td>Sim</td>\n",
              "      <td>Nao</td>\n",
              "      <td>Nao</td>\n",
              "      <td>Atual</td>\n",
              "      <td>Nao</td>\n",
              "      <td>Nao</td>\n",
              "      <td>Angina Estavel</td>\n",
              "      <td>[18-54)</td>\n",
              "      <td>[85-148]</td>\n",
              "      <td>[1.72-71.8]</td>\n",
              "      <td>Sim</td>\n",
              "      <td>Nao</td>\n",
              "    </tr>\n",
              "  </tbody>\n",
              "</table>\n",
              "</div>\n",
              "      <button class=\"colab-df-convert\" onclick=\"convertToInteractive('df-50f7a096-1a16-4cbb-8048-1e96aeeadbd9')\"\n",
              "              title=\"Convert this dataframe to an interactive table.\"\n",
              "              style=\"display:none;\">\n",
              "        \n",
              "  <svg xmlns=\"http://www.w3.org/2000/svg\" height=\"24px\"viewBox=\"0 0 24 24\"\n",
              "       width=\"24px\">\n",
              "    <path d=\"M0 0h24v24H0V0z\" fill=\"none\"/>\n",
              "    <path d=\"M18.56 5.44l.94 2.06.94-2.06 2.06-.94-2.06-.94-.94-2.06-.94 2.06-2.06.94zm-11 1L8.5 8.5l.94-2.06 2.06-.94-2.06-.94L8.5 2.5l-.94 2.06-2.06.94zm10 10l.94 2.06.94-2.06 2.06-.94-2.06-.94-.94-2.06-.94 2.06-2.06.94z\"/><path d=\"M17.41 7.96l-1.37-1.37c-.4-.4-.92-.59-1.43-.59-.52 0-1.04.2-1.43.59L10.3 9.45l-7.72 7.72c-.78.78-.78 2.05 0 2.83L4 21.41c.39.39.9.59 1.41.59.51 0 1.02-.2 1.41-.59l7.78-7.78 2.81-2.81c.8-.78.8-2.07 0-2.86zM5.41 20L4 18.59l7.72-7.72 1.47 1.35L5.41 20z\"/>\n",
              "  </svg>\n",
              "      </button>\n",
              "      \n",
              "  <style>\n",
              "    .colab-df-container {\n",
              "      display:flex;\n",
              "      flex-wrap:wrap;\n",
              "      gap: 12px;\n",
              "    }\n",
              "\n",
              "    .colab-df-convert {\n",
              "      background-color: #E8F0FE;\n",
              "      border: none;\n",
              "      border-radius: 50%;\n",
              "      cursor: pointer;\n",
              "      display: none;\n",
              "      fill: #1967D2;\n",
              "      height: 32px;\n",
              "      padding: 0 0 0 0;\n",
              "      width: 32px;\n",
              "    }\n",
              "\n",
              "    .colab-df-convert:hover {\n",
              "      background-color: #E2EBFA;\n",
              "      box-shadow: 0px 1px 2px rgba(60, 64, 67, 0.3), 0px 1px 3px 1px rgba(60, 64, 67, 0.15);\n",
              "      fill: #174EA6;\n",
              "    }\n",
              "\n",
              "    [theme=dark] .colab-df-convert {\n",
              "      background-color: #3B4455;\n",
              "      fill: #D2E3FC;\n",
              "    }\n",
              "\n",
              "    [theme=dark] .colab-df-convert:hover {\n",
              "      background-color: #434B5C;\n",
              "      box-shadow: 0px 1px 3px 1px rgba(0, 0, 0, 0.15);\n",
              "      filter: drop-shadow(0px 1px 2px rgba(0, 0, 0, 0.3));\n",
              "      fill: #FFFFFF;\n",
              "    }\n",
              "  </style>\n",
              "\n",
              "      <script>\n",
              "        const buttonEl =\n",
              "          document.querySelector('#df-50f7a096-1a16-4cbb-8048-1e96aeeadbd9 button.colab-df-convert');\n",
              "        buttonEl.style.display =\n",
              "          google.colab.kernel.accessAllowed ? 'block' : 'none';\n",
              "\n",
              "        async function convertToInteractive(key) {\n",
              "          const element = document.querySelector('#df-50f7a096-1a16-4cbb-8048-1e96aeeadbd9');\n",
              "          const dataTable =\n",
              "            await google.colab.kernel.invokeFunction('convertToInteractive',\n",
              "                                                     [key], {});\n",
              "          if (!dataTable) return;\n",
              "\n",
              "          const docLinkHtml = 'Like what you see? Visit the ' +\n",
              "            '<a target=\"_blank\" href=https://colab.research.google.com/notebooks/data_table.ipynb>data table notebook</a>'\n",
              "            + ' to learn more about interactive tables.';\n",
              "          element.innerHTML = '';\n",
              "          dataTable['output_type'] = 'display_data';\n",
              "          await google.colab.output.renderOutput(dataTable, element);\n",
              "          const docLink = document.createElement('div');\n",
              "          docLink.innerHTML = docLinkHtml;\n",
              "          element.appendChild(docLink);\n",
              "        }\n",
              "      </script>\n",
              "    </div>\n",
              "  </div>\n",
              "  "
            ]
          },
          "metadata": {},
          "execution_count": 36
        }
      ]
    },
    {
      "cell_type": "markdown",
      "source": [
        "## Explorando a Base de Dados"
      ],
      "metadata": {
        "id": "xvoepSGXrv4u"
      }
    },
    {
      "cell_type": "markdown",
      "source": [
        "Verificando os dados existentes usando o unique()"
      ],
      "metadata": {
        "id": "AKd1uWhlsEY1"
      }
    },
    {
      "cell_type": "code",
      "source": [
        "# da coluna 'diagAtual'\n",
        "\n",
        "dados['diagAtual'].unique()"
      ],
      "metadata": {
        "id": "jJFpVQ0gyT9E",
        "colab": {
          "base_uri": "https://localhost:8080/"
        },
        "outputId": "d324a148-872c-47ca-9a3a-e3e1382a81b1"
      },
      "execution_count": null,
      "outputs": [
        {
          "output_type": "execute_result",
          "data": {
            "text/plain": [
              "array(['Angina Instavel', 'Isquemia Silenciosa', 'Angina Estavel',\n",
              "       'Indicacao Anatomica', nan], dtype=object)"
            ]
          },
          "metadata": {},
          "execution_count": 38
        }
      ]
    },
    {
      "cell_type": "code",
      "source": [
        "# da coluna 'idadeCat'\n",
        "dados['idadeCat'].unique()"
      ],
      "metadata": {
        "id": "7hVqNiapy1bl",
        "colab": {
          "base_uri": "https://localhost:8080/"
        },
        "outputId": "d510c1d2-4dff-482b-e478-7892603880b3"
      },
      "execution_count": null,
      "outputs": [
        {
          "output_type": "execute_result",
          "data": {
            "text/plain": [
              "array(['[71-95]', '[60-65)', '[65-71)', '[18-54)', '[54-60)'],\n",
              "      dtype=object)"
            ]
          },
          "metadata": {},
          "execution_count": 40
        }
      ]
    },
    {
      "cell_type": "markdown",
      "source": [
        "### Tratamento de dados faltantes"
      ],
      "metadata": {
        "id": "luMD6BDsvfnV"
      }
    },
    {
      "cell_type": "markdown",
      "source": [
        "Formas de verificar valores nulos:"
      ],
      "metadata": {
        "id": "_OPQ0liOvqN-"
      }
    },
    {
      "cell_type": "code",
      "source": [
        "dados.isnull()"
      ],
      "metadata": {
        "id": "v7egHI1hteb2",
        "colab": {
          "base_uri": "https://localhost:8080/",
          "height": 488
        },
        "outputId": "4b827c5d-956e-4128-faae-25d0415b43ad"
      },
      "execution_count": null,
      "outputs": [
        {
          "output_type": "execute_result",
          "data": {
            "text/plain": [
              "       sexo  aHipertensao  aDiabetes  aFamiliar  aTabagismo  aDPulmonar  \\\n",
              "0     False         False      False      False       False       False   \n",
              "1     False         False      False      False       False       False   \n",
              "2     False         False      False      False       False       False   \n",
              "3     False         False      False      False       False       False   \n",
              "4     False         False      False      False       False       False   \n",
              "...     ...           ...        ...        ...         ...         ...   \n",
              "8699  False         False      False      False       False       False   \n",
              "8700  False         False      False      False       False       False   \n",
              "8701  False         False      False      False       False       False   \n",
              "8702  False         False      False      False       False       False   \n",
              "8703  False         False      False      False       False       False   \n",
              "\n",
              "      aInfarto  diagAtual  idadeCat  pesoCat  alturaCat  complicacoes  obito  \n",
              "0        False      False     False    False      False         False  False  \n",
              "1        False      False     False    False      False         False  False  \n",
              "2        False      False     False    False      False         False  False  \n",
              "3        False      False     False    False      False         False  False  \n",
              "4        False      False     False    False      False         False  False  \n",
              "...        ...        ...       ...      ...        ...           ...    ...  \n",
              "8699     False      False     False    False      False         False  False  \n",
              "8700     False      False     False    False      False         False  False  \n",
              "8701     False      False     False    False      False         False  False  \n",
              "8702     False      False     False    False      False         False  False  \n",
              "8703     False      False     False    False      False         False  False  \n",
              "\n",
              "[8704 rows x 13 columns]"
            ],
            "text/html": [
              "\n",
              "  <div id=\"df-ff4a8e56-1595-43ea-b410-eafa2b7acd0a\">\n",
              "    <div class=\"colab-df-container\">\n",
              "      <div>\n",
              "<style scoped>\n",
              "    .dataframe tbody tr th:only-of-type {\n",
              "        vertical-align: middle;\n",
              "    }\n",
              "\n",
              "    .dataframe tbody tr th {\n",
              "        vertical-align: top;\n",
              "    }\n",
              "\n",
              "    .dataframe thead th {\n",
              "        text-align: right;\n",
              "    }\n",
              "</style>\n",
              "<table border=\"1\" class=\"dataframe\">\n",
              "  <thead>\n",
              "    <tr style=\"text-align: right;\">\n",
              "      <th></th>\n",
              "      <th>sexo</th>\n",
              "      <th>aHipertensao</th>\n",
              "      <th>aDiabetes</th>\n",
              "      <th>aFamiliar</th>\n",
              "      <th>aTabagismo</th>\n",
              "      <th>aDPulmonar</th>\n",
              "      <th>aInfarto</th>\n",
              "      <th>diagAtual</th>\n",
              "      <th>idadeCat</th>\n",
              "      <th>pesoCat</th>\n",
              "      <th>alturaCat</th>\n",
              "      <th>complicacoes</th>\n",
              "      <th>obito</th>\n",
              "    </tr>\n",
              "  </thead>\n",
              "  <tbody>\n",
              "    <tr>\n",
              "      <th>0</th>\n",
              "      <td>False</td>\n",
              "      <td>False</td>\n",
              "      <td>False</td>\n",
              "      <td>False</td>\n",
              "      <td>False</td>\n",
              "      <td>False</td>\n",
              "      <td>False</td>\n",
              "      <td>False</td>\n",
              "      <td>False</td>\n",
              "      <td>False</td>\n",
              "      <td>False</td>\n",
              "      <td>False</td>\n",
              "      <td>False</td>\n",
              "    </tr>\n",
              "    <tr>\n",
              "      <th>1</th>\n",
              "      <td>False</td>\n",
              "      <td>False</td>\n",
              "      <td>False</td>\n",
              "      <td>False</td>\n",
              "      <td>False</td>\n",
              "      <td>False</td>\n",
              "      <td>False</td>\n",
              "      <td>False</td>\n",
              "      <td>False</td>\n",
              "      <td>False</td>\n",
              "      <td>False</td>\n",
              "      <td>False</td>\n",
              "      <td>False</td>\n",
              "    </tr>\n",
              "    <tr>\n",
              "      <th>2</th>\n",
              "      <td>False</td>\n",
              "      <td>False</td>\n",
              "      <td>False</td>\n",
              "      <td>False</td>\n",
              "      <td>False</td>\n",
              "      <td>False</td>\n",
              "      <td>False</td>\n",
              "      <td>False</td>\n",
              "      <td>False</td>\n",
              "      <td>False</td>\n",
              "      <td>False</td>\n",
              "      <td>False</td>\n",
              "      <td>False</td>\n",
              "    </tr>\n",
              "    <tr>\n",
              "      <th>3</th>\n",
              "      <td>False</td>\n",
              "      <td>False</td>\n",
              "      <td>False</td>\n",
              "      <td>False</td>\n",
              "      <td>False</td>\n",
              "      <td>False</td>\n",
              "      <td>False</td>\n",
              "      <td>False</td>\n",
              "      <td>False</td>\n",
              "      <td>False</td>\n",
              "      <td>False</td>\n",
              "      <td>False</td>\n",
              "      <td>False</td>\n",
              "    </tr>\n",
              "    <tr>\n",
              "      <th>4</th>\n",
              "      <td>False</td>\n",
              "      <td>False</td>\n",
              "      <td>False</td>\n",
              "      <td>False</td>\n",
              "      <td>False</td>\n",
              "      <td>False</td>\n",
              "      <td>False</td>\n",
              "      <td>False</td>\n",
              "      <td>False</td>\n",
              "      <td>False</td>\n",
              "      <td>False</td>\n",
              "      <td>False</td>\n",
              "      <td>False</td>\n",
              "    </tr>\n",
              "    <tr>\n",
              "      <th>...</th>\n",
              "      <td>...</td>\n",
              "      <td>...</td>\n",
              "      <td>...</td>\n",
              "      <td>...</td>\n",
              "      <td>...</td>\n",
              "      <td>...</td>\n",
              "      <td>...</td>\n",
              "      <td>...</td>\n",
              "      <td>...</td>\n",
              "      <td>...</td>\n",
              "      <td>...</td>\n",
              "      <td>...</td>\n",
              "      <td>...</td>\n",
              "    </tr>\n",
              "    <tr>\n",
              "      <th>8699</th>\n",
              "      <td>False</td>\n",
              "      <td>False</td>\n",
              "      <td>False</td>\n",
              "      <td>False</td>\n",
              "      <td>False</td>\n",
              "      <td>False</td>\n",
              "      <td>False</td>\n",
              "      <td>False</td>\n",
              "      <td>False</td>\n",
              "      <td>False</td>\n",
              "      <td>False</td>\n",
              "      <td>False</td>\n",
              "      <td>False</td>\n",
              "    </tr>\n",
              "    <tr>\n",
              "      <th>8700</th>\n",
              "      <td>False</td>\n",
              "      <td>False</td>\n",
              "      <td>False</td>\n",
              "      <td>False</td>\n",
              "      <td>False</td>\n",
              "      <td>False</td>\n",
              "      <td>False</td>\n",
              "      <td>False</td>\n",
              "      <td>False</td>\n",
              "      <td>False</td>\n",
              "      <td>False</td>\n",
              "      <td>False</td>\n",
              "      <td>False</td>\n",
              "    </tr>\n",
              "    <tr>\n",
              "      <th>8701</th>\n",
              "      <td>False</td>\n",
              "      <td>False</td>\n",
              "      <td>False</td>\n",
              "      <td>False</td>\n",
              "      <td>False</td>\n",
              "      <td>False</td>\n",
              "      <td>False</td>\n",
              "      <td>False</td>\n",
              "      <td>False</td>\n",
              "      <td>False</td>\n",
              "      <td>False</td>\n",
              "      <td>False</td>\n",
              "      <td>False</td>\n",
              "    </tr>\n",
              "    <tr>\n",
              "      <th>8702</th>\n",
              "      <td>False</td>\n",
              "      <td>False</td>\n",
              "      <td>False</td>\n",
              "      <td>False</td>\n",
              "      <td>False</td>\n",
              "      <td>False</td>\n",
              "      <td>False</td>\n",
              "      <td>False</td>\n",
              "      <td>False</td>\n",
              "      <td>False</td>\n",
              "      <td>False</td>\n",
              "      <td>False</td>\n",
              "      <td>False</td>\n",
              "    </tr>\n",
              "    <tr>\n",
              "      <th>8703</th>\n",
              "      <td>False</td>\n",
              "      <td>False</td>\n",
              "      <td>False</td>\n",
              "      <td>False</td>\n",
              "      <td>False</td>\n",
              "      <td>False</td>\n",
              "      <td>False</td>\n",
              "      <td>False</td>\n",
              "      <td>False</td>\n",
              "      <td>False</td>\n",
              "      <td>False</td>\n",
              "      <td>False</td>\n",
              "      <td>False</td>\n",
              "    </tr>\n",
              "  </tbody>\n",
              "</table>\n",
              "<p>8704 rows × 13 columns</p>\n",
              "</div>\n",
              "      <button class=\"colab-df-convert\" onclick=\"convertToInteractive('df-ff4a8e56-1595-43ea-b410-eafa2b7acd0a')\"\n",
              "              title=\"Convert this dataframe to an interactive table.\"\n",
              "              style=\"display:none;\">\n",
              "        \n",
              "  <svg xmlns=\"http://www.w3.org/2000/svg\" height=\"24px\"viewBox=\"0 0 24 24\"\n",
              "       width=\"24px\">\n",
              "    <path d=\"M0 0h24v24H0V0z\" fill=\"none\"/>\n",
              "    <path d=\"M18.56 5.44l.94 2.06.94-2.06 2.06-.94-2.06-.94-.94-2.06-.94 2.06-2.06.94zm-11 1L8.5 8.5l.94-2.06 2.06-.94-2.06-.94L8.5 2.5l-.94 2.06-2.06.94zm10 10l.94 2.06.94-2.06 2.06-.94-2.06-.94-.94-2.06-.94 2.06-2.06.94z\"/><path d=\"M17.41 7.96l-1.37-1.37c-.4-.4-.92-.59-1.43-.59-.52 0-1.04.2-1.43.59L10.3 9.45l-7.72 7.72c-.78.78-.78 2.05 0 2.83L4 21.41c.39.39.9.59 1.41.59.51 0 1.02-.2 1.41-.59l7.78-7.78 2.81-2.81c.8-.78.8-2.07 0-2.86zM5.41 20L4 18.59l7.72-7.72 1.47 1.35L5.41 20z\"/>\n",
              "  </svg>\n",
              "      </button>\n",
              "      \n",
              "  <style>\n",
              "    .colab-df-container {\n",
              "      display:flex;\n",
              "      flex-wrap:wrap;\n",
              "      gap: 12px;\n",
              "    }\n",
              "\n",
              "    .colab-df-convert {\n",
              "      background-color: #E8F0FE;\n",
              "      border: none;\n",
              "      border-radius: 50%;\n",
              "      cursor: pointer;\n",
              "      display: none;\n",
              "      fill: #1967D2;\n",
              "      height: 32px;\n",
              "      padding: 0 0 0 0;\n",
              "      width: 32px;\n",
              "    }\n",
              "\n",
              "    .colab-df-convert:hover {\n",
              "      background-color: #E2EBFA;\n",
              "      box-shadow: 0px 1px 2px rgba(60, 64, 67, 0.3), 0px 1px 3px 1px rgba(60, 64, 67, 0.15);\n",
              "      fill: #174EA6;\n",
              "    }\n",
              "\n",
              "    [theme=dark] .colab-df-convert {\n",
              "      background-color: #3B4455;\n",
              "      fill: #D2E3FC;\n",
              "    }\n",
              "\n",
              "    [theme=dark] .colab-df-convert:hover {\n",
              "      background-color: #434B5C;\n",
              "      box-shadow: 0px 1px 3px 1px rgba(0, 0, 0, 0.15);\n",
              "      filter: drop-shadow(0px 1px 2px rgba(0, 0, 0, 0.3));\n",
              "      fill: #FFFFFF;\n",
              "    }\n",
              "  </style>\n",
              "\n",
              "      <script>\n",
              "        const buttonEl =\n",
              "          document.querySelector('#df-ff4a8e56-1595-43ea-b410-eafa2b7acd0a button.colab-df-convert');\n",
              "        buttonEl.style.display =\n",
              "          google.colab.kernel.accessAllowed ? 'block' : 'none';\n",
              "\n",
              "        async function convertToInteractive(key) {\n",
              "          const element = document.querySelector('#df-ff4a8e56-1595-43ea-b410-eafa2b7acd0a');\n",
              "          const dataTable =\n",
              "            await google.colab.kernel.invokeFunction('convertToInteractive',\n",
              "                                                     [key], {});\n",
              "          if (!dataTable) return;\n",
              "\n",
              "          const docLinkHtml = 'Like what you see? Visit the ' +\n",
              "            '<a target=\"_blank\" href=https://colab.research.google.com/notebooks/data_table.ipynb>data table notebook</a>'\n",
              "            + ' to learn more about interactive tables.';\n",
              "          element.innerHTML = '';\n",
              "          dataTable['output_type'] = 'display_data';\n",
              "          await google.colab.output.renderOutput(dataTable, element);\n",
              "          const docLink = document.createElement('div');\n",
              "          docLink.innerHTML = docLinkHtml;\n",
              "          element.appendChild(docLink);\n",
              "        }\n",
              "      </script>\n",
              "    </div>\n",
              "  </div>\n",
              "  "
            ]
          },
          "metadata": {},
          "execution_count": 41
        }
      ]
    },
    {
      "cell_type": "code",
      "source": [
        "dados.notnull()"
      ],
      "metadata": {
        "id": "f73iIAXAvyXX",
        "colab": {
          "base_uri": "https://localhost:8080/",
          "height": 488
        },
        "outputId": "1863c2e5-7457-4007-b991-a867aea6a2ed"
      },
      "execution_count": null,
      "outputs": [
        {
          "output_type": "execute_result",
          "data": {
            "text/plain": [
              "      sexo  aHipertensao  aDiabetes  aFamiliar  aTabagismo  aDPulmonar  \\\n",
              "0     True          True       True       True        True        True   \n",
              "1     True          True       True       True        True        True   \n",
              "2     True          True       True       True        True        True   \n",
              "3     True          True       True       True        True        True   \n",
              "4     True          True       True       True        True        True   \n",
              "...    ...           ...        ...        ...         ...         ...   \n",
              "8699  True          True       True       True        True        True   \n",
              "8700  True          True       True       True        True        True   \n",
              "8701  True          True       True       True        True        True   \n",
              "8702  True          True       True       True        True        True   \n",
              "8703  True          True       True       True        True        True   \n",
              "\n",
              "      aInfarto  diagAtual  idadeCat  pesoCat  alturaCat  complicacoes  obito  \n",
              "0         True       True      True     True       True          True   True  \n",
              "1         True       True      True     True       True          True   True  \n",
              "2         True       True      True     True       True          True   True  \n",
              "3         True       True      True     True       True          True   True  \n",
              "4         True       True      True     True       True          True   True  \n",
              "...        ...        ...       ...      ...        ...           ...    ...  \n",
              "8699      True       True      True     True       True          True   True  \n",
              "8700      True       True      True     True       True          True   True  \n",
              "8701      True       True      True     True       True          True   True  \n",
              "8702      True       True      True     True       True          True   True  \n",
              "8703      True       True      True     True       True          True   True  \n",
              "\n",
              "[8704 rows x 13 columns]"
            ],
            "text/html": [
              "\n",
              "  <div id=\"df-224e6a53-5029-4962-86d4-308174f409d7\">\n",
              "    <div class=\"colab-df-container\">\n",
              "      <div>\n",
              "<style scoped>\n",
              "    .dataframe tbody tr th:only-of-type {\n",
              "        vertical-align: middle;\n",
              "    }\n",
              "\n",
              "    .dataframe tbody tr th {\n",
              "        vertical-align: top;\n",
              "    }\n",
              "\n",
              "    .dataframe thead th {\n",
              "        text-align: right;\n",
              "    }\n",
              "</style>\n",
              "<table border=\"1\" class=\"dataframe\">\n",
              "  <thead>\n",
              "    <tr style=\"text-align: right;\">\n",
              "      <th></th>\n",
              "      <th>sexo</th>\n",
              "      <th>aHipertensao</th>\n",
              "      <th>aDiabetes</th>\n",
              "      <th>aFamiliar</th>\n",
              "      <th>aTabagismo</th>\n",
              "      <th>aDPulmonar</th>\n",
              "      <th>aInfarto</th>\n",
              "      <th>diagAtual</th>\n",
              "      <th>idadeCat</th>\n",
              "      <th>pesoCat</th>\n",
              "      <th>alturaCat</th>\n",
              "      <th>complicacoes</th>\n",
              "      <th>obito</th>\n",
              "    </tr>\n",
              "  </thead>\n",
              "  <tbody>\n",
              "    <tr>\n",
              "      <th>0</th>\n",
              "      <td>True</td>\n",
              "      <td>True</td>\n",
              "      <td>True</td>\n",
              "      <td>True</td>\n",
              "      <td>True</td>\n",
              "      <td>True</td>\n",
              "      <td>True</td>\n",
              "      <td>True</td>\n",
              "      <td>True</td>\n",
              "      <td>True</td>\n",
              "      <td>True</td>\n",
              "      <td>True</td>\n",
              "      <td>True</td>\n",
              "    </tr>\n",
              "    <tr>\n",
              "      <th>1</th>\n",
              "      <td>True</td>\n",
              "      <td>True</td>\n",
              "      <td>True</td>\n",
              "      <td>True</td>\n",
              "      <td>True</td>\n",
              "      <td>True</td>\n",
              "      <td>True</td>\n",
              "      <td>True</td>\n",
              "      <td>True</td>\n",
              "      <td>True</td>\n",
              "      <td>True</td>\n",
              "      <td>True</td>\n",
              "      <td>True</td>\n",
              "    </tr>\n",
              "    <tr>\n",
              "      <th>2</th>\n",
              "      <td>True</td>\n",
              "      <td>True</td>\n",
              "      <td>True</td>\n",
              "      <td>True</td>\n",
              "      <td>True</td>\n",
              "      <td>True</td>\n",
              "      <td>True</td>\n",
              "      <td>True</td>\n",
              "      <td>True</td>\n",
              "      <td>True</td>\n",
              "      <td>True</td>\n",
              "      <td>True</td>\n",
              "      <td>True</td>\n",
              "    </tr>\n",
              "    <tr>\n",
              "      <th>3</th>\n",
              "      <td>True</td>\n",
              "      <td>True</td>\n",
              "      <td>True</td>\n",
              "      <td>True</td>\n",
              "      <td>True</td>\n",
              "      <td>True</td>\n",
              "      <td>True</td>\n",
              "      <td>True</td>\n",
              "      <td>True</td>\n",
              "      <td>True</td>\n",
              "      <td>True</td>\n",
              "      <td>True</td>\n",
              "      <td>True</td>\n",
              "    </tr>\n",
              "    <tr>\n",
              "      <th>4</th>\n",
              "      <td>True</td>\n",
              "      <td>True</td>\n",
              "      <td>True</td>\n",
              "      <td>True</td>\n",
              "      <td>True</td>\n",
              "      <td>True</td>\n",
              "      <td>True</td>\n",
              "      <td>True</td>\n",
              "      <td>True</td>\n",
              "      <td>True</td>\n",
              "      <td>True</td>\n",
              "      <td>True</td>\n",
              "      <td>True</td>\n",
              "    </tr>\n",
              "    <tr>\n",
              "      <th>...</th>\n",
              "      <td>...</td>\n",
              "      <td>...</td>\n",
              "      <td>...</td>\n",
              "      <td>...</td>\n",
              "      <td>...</td>\n",
              "      <td>...</td>\n",
              "      <td>...</td>\n",
              "      <td>...</td>\n",
              "      <td>...</td>\n",
              "      <td>...</td>\n",
              "      <td>...</td>\n",
              "      <td>...</td>\n",
              "      <td>...</td>\n",
              "    </tr>\n",
              "    <tr>\n",
              "      <th>8699</th>\n",
              "      <td>True</td>\n",
              "      <td>True</td>\n",
              "      <td>True</td>\n",
              "      <td>True</td>\n",
              "      <td>True</td>\n",
              "      <td>True</td>\n",
              "      <td>True</td>\n",
              "      <td>True</td>\n",
              "      <td>True</td>\n",
              "      <td>True</td>\n",
              "      <td>True</td>\n",
              "      <td>True</td>\n",
              "      <td>True</td>\n",
              "    </tr>\n",
              "    <tr>\n",
              "      <th>8700</th>\n",
              "      <td>True</td>\n",
              "      <td>True</td>\n",
              "      <td>True</td>\n",
              "      <td>True</td>\n",
              "      <td>True</td>\n",
              "      <td>True</td>\n",
              "      <td>True</td>\n",
              "      <td>True</td>\n",
              "      <td>True</td>\n",
              "      <td>True</td>\n",
              "      <td>True</td>\n",
              "      <td>True</td>\n",
              "      <td>True</td>\n",
              "    </tr>\n",
              "    <tr>\n",
              "      <th>8701</th>\n",
              "      <td>True</td>\n",
              "      <td>True</td>\n",
              "      <td>True</td>\n",
              "      <td>True</td>\n",
              "      <td>True</td>\n",
              "      <td>True</td>\n",
              "      <td>True</td>\n",
              "      <td>True</td>\n",
              "      <td>True</td>\n",
              "      <td>True</td>\n",
              "      <td>True</td>\n",
              "      <td>True</td>\n",
              "      <td>True</td>\n",
              "    </tr>\n",
              "    <tr>\n",
              "      <th>8702</th>\n",
              "      <td>True</td>\n",
              "      <td>True</td>\n",
              "      <td>True</td>\n",
              "      <td>True</td>\n",
              "      <td>True</td>\n",
              "      <td>True</td>\n",
              "      <td>True</td>\n",
              "      <td>True</td>\n",
              "      <td>True</td>\n",
              "      <td>True</td>\n",
              "      <td>True</td>\n",
              "      <td>True</td>\n",
              "      <td>True</td>\n",
              "    </tr>\n",
              "    <tr>\n",
              "      <th>8703</th>\n",
              "      <td>True</td>\n",
              "      <td>True</td>\n",
              "      <td>True</td>\n",
              "      <td>True</td>\n",
              "      <td>True</td>\n",
              "      <td>True</td>\n",
              "      <td>True</td>\n",
              "      <td>True</td>\n",
              "      <td>True</td>\n",
              "      <td>True</td>\n",
              "      <td>True</td>\n",
              "      <td>True</td>\n",
              "      <td>True</td>\n",
              "    </tr>\n",
              "  </tbody>\n",
              "</table>\n",
              "<p>8704 rows × 13 columns</p>\n",
              "</div>\n",
              "      <button class=\"colab-df-convert\" onclick=\"convertToInteractive('df-224e6a53-5029-4962-86d4-308174f409d7')\"\n",
              "              title=\"Convert this dataframe to an interactive table.\"\n",
              "              style=\"display:none;\">\n",
              "        \n",
              "  <svg xmlns=\"http://www.w3.org/2000/svg\" height=\"24px\"viewBox=\"0 0 24 24\"\n",
              "       width=\"24px\">\n",
              "    <path d=\"M0 0h24v24H0V0z\" fill=\"none\"/>\n",
              "    <path d=\"M18.56 5.44l.94 2.06.94-2.06 2.06-.94-2.06-.94-.94-2.06-.94 2.06-2.06.94zm-11 1L8.5 8.5l.94-2.06 2.06-.94-2.06-.94L8.5 2.5l-.94 2.06-2.06.94zm10 10l.94 2.06.94-2.06 2.06-.94-2.06-.94-.94-2.06-.94 2.06-2.06.94z\"/><path d=\"M17.41 7.96l-1.37-1.37c-.4-.4-.92-.59-1.43-.59-.52 0-1.04.2-1.43.59L10.3 9.45l-7.72 7.72c-.78.78-.78 2.05 0 2.83L4 21.41c.39.39.9.59 1.41.59.51 0 1.02-.2 1.41-.59l7.78-7.78 2.81-2.81c.8-.78.8-2.07 0-2.86zM5.41 20L4 18.59l7.72-7.72 1.47 1.35L5.41 20z\"/>\n",
              "  </svg>\n",
              "      </button>\n",
              "      \n",
              "  <style>\n",
              "    .colab-df-container {\n",
              "      display:flex;\n",
              "      flex-wrap:wrap;\n",
              "      gap: 12px;\n",
              "    }\n",
              "\n",
              "    .colab-df-convert {\n",
              "      background-color: #E8F0FE;\n",
              "      border: none;\n",
              "      border-radius: 50%;\n",
              "      cursor: pointer;\n",
              "      display: none;\n",
              "      fill: #1967D2;\n",
              "      height: 32px;\n",
              "      padding: 0 0 0 0;\n",
              "      width: 32px;\n",
              "    }\n",
              "\n",
              "    .colab-df-convert:hover {\n",
              "      background-color: #E2EBFA;\n",
              "      box-shadow: 0px 1px 2px rgba(60, 64, 67, 0.3), 0px 1px 3px 1px rgba(60, 64, 67, 0.15);\n",
              "      fill: #174EA6;\n",
              "    }\n",
              "\n",
              "    [theme=dark] .colab-df-convert {\n",
              "      background-color: #3B4455;\n",
              "      fill: #D2E3FC;\n",
              "    }\n",
              "\n",
              "    [theme=dark] .colab-df-convert:hover {\n",
              "      background-color: #434B5C;\n",
              "      box-shadow: 0px 1px 3px 1px rgba(0, 0, 0, 0.15);\n",
              "      filter: drop-shadow(0px 1px 2px rgba(0, 0, 0, 0.3));\n",
              "      fill: #FFFFFF;\n",
              "    }\n",
              "  </style>\n",
              "\n",
              "      <script>\n",
              "        const buttonEl =\n",
              "          document.querySelector('#df-224e6a53-5029-4962-86d4-308174f409d7 button.colab-df-convert');\n",
              "        buttonEl.style.display =\n",
              "          google.colab.kernel.accessAllowed ? 'block' : 'none';\n",
              "\n",
              "        async function convertToInteractive(key) {\n",
              "          const element = document.querySelector('#df-224e6a53-5029-4962-86d4-308174f409d7');\n",
              "          const dataTable =\n",
              "            await google.colab.kernel.invokeFunction('convertToInteractive',\n",
              "                                                     [key], {});\n",
              "          if (!dataTable) return;\n",
              "\n",
              "          const docLinkHtml = 'Like what you see? Visit the ' +\n",
              "            '<a target=\"_blank\" href=https://colab.research.google.com/notebooks/data_table.ipynb>data table notebook</a>'\n",
              "            + ' to learn more about interactive tables.';\n",
              "          element.innerHTML = '';\n",
              "          dataTable['output_type'] = 'display_data';\n",
              "          await google.colab.output.renderOutput(dataTable, element);\n",
              "          const docLink = document.createElement('div');\n",
              "          docLink.innerHTML = docLinkHtml;\n",
              "          element.appendChild(docLink);\n",
              "        }\n",
              "      </script>\n",
              "    </div>\n",
              "  </div>\n",
              "  "
            ]
          },
          "metadata": {},
          "execution_count": 42
        }
      ]
    },
    {
      "cell_type": "code",
      "source": [
        "dados.info()"
      ],
      "metadata": {
        "id": "wmcycz4Wv233",
        "colab": {
          "base_uri": "https://localhost:8080/"
        },
        "outputId": "8d405437-a178-4a0e-eb89-cf34512676cd"
      },
      "execution_count": null,
      "outputs": [
        {
          "output_type": "stream",
          "name": "stdout",
          "text": [
            "<class 'pandas.core.frame.DataFrame'>\n",
            "RangeIndex: 8704 entries, 0 to 8703\n",
            "Data columns (total 13 columns):\n",
            " #   Column        Non-Null Count  Dtype \n",
            "---  ------        --------------  ----- \n",
            " 0   sexo          8704 non-null   object\n",
            " 1   aHipertensao  8704 non-null   object\n",
            " 2   aDiabetes     8704 non-null   object\n",
            " 3   aFamiliar     8704 non-null   object\n",
            " 4   aTabagismo    8704 non-null   object\n",
            " 5   aDPulmonar    8704 non-null   object\n",
            " 6   aInfarto      8704 non-null   object\n",
            " 7   diagAtual     8689 non-null   object\n",
            " 8   idadeCat      8704 non-null   object\n",
            " 9   pesoCat       8704 non-null   object\n",
            " 10  alturaCat     8704 non-null   object\n",
            " 11  complicacoes  8704 non-null   object\n",
            " 12  obito         8704 non-null   object\n",
            "dtypes: object(13)\n",
            "memory usage: 884.1+ KB\n"
          ]
        }
      ]
    },
    {
      "cell_type": "markdown",
      "source": [
        "Retornando um dataframe de dados faltantes em 'diagAtual'"
      ],
      "metadata": {
        "id": "ReUpllhAz-w-"
      }
    },
    {
      "cell_type": "code",
      "source": [
        "dados[dados['diagAtual'].isnull()]"
      ],
      "metadata": {
        "id": "IGBp1-_NwNqn",
        "colab": {
          "base_uri": "https://localhost:8080/",
          "height": 584
        },
        "outputId": "86a1c104-74e0-45b3-db29-47b880f5e207"
      },
      "execution_count": null,
      "outputs": [
        {
          "output_type": "execute_result",
          "data": {
            "text/plain": [
              "     sexo aHipertensao aDiabetes aFamiliar   aTabagismo aDPulmonar aInfarto  \\\n",
              "87      M          Sim       Nao       Nao          Nao        Nao      Sim   \n",
              "110     M          Sim       Nao       Nao  Interropido        Nao      Sim   \n",
              "250     M          Sim       Sim       Nao          Nao        Nao      Nao   \n",
              "252     M          Sim       Nao       Nao          Nao        Nao      Nao   \n",
              "910     M          Sim       Nao       Nao  Interropido        Nao      Nao   \n",
              "1353    M          Sim       Nao       Sim          Nao        Nao      Nao   \n",
              "3256    M          Sim       Nao       Nao        Atual        Nao      Sim   \n",
              "4833    M          Sim       Sim       Sim          Nao        Nao      Sim   \n",
              "5632    M          Sim       Nao       Nao        Atual        Nao      Nao   \n",
              "5763    M          Sim       Nao       Nao          Nao        Nao      Nao   \n",
              "6748    M          Sim       Nao       Nao          Nao        Nao      Nao   \n",
              "6902    F          Sim       Nao       Nao        Atual        Nao      Nao   \n",
              "6946    M          Sim       Sim       Sim          Nao        Nao      Nao   \n",
              "7371    M          Sim       Nao       Nao          Nao        Nao      Sim   \n",
              "7608    F          Sim       Sim       Nao          Nao        Nao      Sim   \n",
              "\n",
              "     diagAtual idadeCat    pesoCat    alturaCat complicacoes obito  \n",
              "87         NaN  [60-65)   [85-148]  [1.72-71.8]          Sim   Nao  \n",
              "110        NaN  [65-71)  [62.5-70)  [1.62-1.67)          Nao   Nao  \n",
              "250        NaN  [65-71)    [70-76)  [1.62-1.67)          Nao   Nao  \n",
              "252        NaN  [18-54)   [85-148]  [1.72-71.8]          Nao   Nao  \n",
              "910        NaN  [65-71)    [70-76)  [1.67-1.72)          Nao   Nao  \n",
              "1353       NaN  [60-65)    [70-76)  [1.67-1.72)          Sim   Nao  \n",
              "3256       NaN  [71-95]    [70-76)  [1.56-1.62)          Sim   Nao  \n",
              "4833       NaN  [60-65)  [37-62.5)  [1.56-1.62)          Nao   Nao  \n",
              "5632       NaN  [65-71)  [62.5-70)  [1.62-1.67)          Sim   Nao  \n",
              "5763       NaN  [71-95]    [70-76)  [1.72-71.8]          Sim   Nao  \n",
              "6748       NaN  [65-71)    [70-76)  [1.62-1.67)          Nao   Nao  \n",
              "6902       NaN  [54-60)  [62.5-70)  [1.31-1.56)          Sim   Nao  \n",
              "6946       NaN  [65-71)   [85-148]  [1.67-1.72)          Sim   Nao  \n",
              "7371       NaN  [71-95]    [76-85)  [1.67-1.72)          Nao   Nao  \n",
              "7608       NaN  [71-95]   [85-148]  [1.31-1.56)          Sim   Nao  "
            ],
            "text/html": [
              "\n",
              "  <div id=\"df-357097a7-721c-4040-b534-12ada516a89a\">\n",
              "    <div class=\"colab-df-container\">\n",
              "      <div>\n",
              "<style scoped>\n",
              "    .dataframe tbody tr th:only-of-type {\n",
              "        vertical-align: middle;\n",
              "    }\n",
              "\n",
              "    .dataframe tbody tr th {\n",
              "        vertical-align: top;\n",
              "    }\n",
              "\n",
              "    .dataframe thead th {\n",
              "        text-align: right;\n",
              "    }\n",
              "</style>\n",
              "<table border=\"1\" class=\"dataframe\">\n",
              "  <thead>\n",
              "    <tr style=\"text-align: right;\">\n",
              "      <th></th>\n",
              "      <th>sexo</th>\n",
              "      <th>aHipertensao</th>\n",
              "      <th>aDiabetes</th>\n",
              "      <th>aFamiliar</th>\n",
              "      <th>aTabagismo</th>\n",
              "      <th>aDPulmonar</th>\n",
              "      <th>aInfarto</th>\n",
              "      <th>diagAtual</th>\n",
              "      <th>idadeCat</th>\n",
              "      <th>pesoCat</th>\n",
              "      <th>alturaCat</th>\n",
              "      <th>complicacoes</th>\n",
              "      <th>obito</th>\n",
              "    </tr>\n",
              "  </thead>\n",
              "  <tbody>\n",
              "    <tr>\n",
              "      <th>87</th>\n",
              "      <td>M</td>\n",
              "      <td>Sim</td>\n",
              "      <td>Nao</td>\n",
              "      <td>Nao</td>\n",
              "      <td>Nao</td>\n",
              "      <td>Nao</td>\n",
              "      <td>Sim</td>\n",
              "      <td>NaN</td>\n",
              "      <td>[60-65)</td>\n",
              "      <td>[85-148]</td>\n",
              "      <td>[1.72-71.8]</td>\n",
              "      <td>Sim</td>\n",
              "      <td>Nao</td>\n",
              "    </tr>\n",
              "    <tr>\n",
              "      <th>110</th>\n",
              "      <td>M</td>\n",
              "      <td>Sim</td>\n",
              "      <td>Nao</td>\n",
              "      <td>Nao</td>\n",
              "      <td>Interropido</td>\n",
              "      <td>Nao</td>\n",
              "      <td>Sim</td>\n",
              "      <td>NaN</td>\n",
              "      <td>[65-71)</td>\n",
              "      <td>[62.5-70)</td>\n",
              "      <td>[1.62-1.67)</td>\n",
              "      <td>Nao</td>\n",
              "      <td>Nao</td>\n",
              "    </tr>\n",
              "    <tr>\n",
              "      <th>250</th>\n",
              "      <td>M</td>\n",
              "      <td>Sim</td>\n",
              "      <td>Sim</td>\n",
              "      <td>Nao</td>\n",
              "      <td>Nao</td>\n",
              "      <td>Nao</td>\n",
              "      <td>Nao</td>\n",
              "      <td>NaN</td>\n",
              "      <td>[65-71)</td>\n",
              "      <td>[70-76)</td>\n",
              "      <td>[1.62-1.67)</td>\n",
              "      <td>Nao</td>\n",
              "      <td>Nao</td>\n",
              "    </tr>\n",
              "    <tr>\n",
              "      <th>252</th>\n",
              "      <td>M</td>\n",
              "      <td>Sim</td>\n",
              "      <td>Nao</td>\n",
              "      <td>Nao</td>\n",
              "      <td>Nao</td>\n",
              "      <td>Nao</td>\n",
              "      <td>Nao</td>\n",
              "      <td>NaN</td>\n",
              "      <td>[18-54)</td>\n",
              "      <td>[85-148]</td>\n",
              "      <td>[1.72-71.8]</td>\n",
              "      <td>Nao</td>\n",
              "      <td>Nao</td>\n",
              "    </tr>\n",
              "    <tr>\n",
              "      <th>910</th>\n",
              "      <td>M</td>\n",
              "      <td>Sim</td>\n",
              "      <td>Nao</td>\n",
              "      <td>Nao</td>\n",
              "      <td>Interropido</td>\n",
              "      <td>Nao</td>\n",
              "      <td>Nao</td>\n",
              "      <td>NaN</td>\n",
              "      <td>[65-71)</td>\n",
              "      <td>[70-76)</td>\n",
              "      <td>[1.67-1.72)</td>\n",
              "      <td>Nao</td>\n",
              "      <td>Nao</td>\n",
              "    </tr>\n",
              "    <tr>\n",
              "      <th>1353</th>\n",
              "      <td>M</td>\n",
              "      <td>Sim</td>\n",
              "      <td>Nao</td>\n",
              "      <td>Sim</td>\n",
              "      <td>Nao</td>\n",
              "      <td>Nao</td>\n",
              "      <td>Nao</td>\n",
              "      <td>NaN</td>\n",
              "      <td>[60-65)</td>\n",
              "      <td>[70-76)</td>\n",
              "      <td>[1.67-1.72)</td>\n",
              "      <td>Sim</td>\n",
              "      <td>Nao</td>\n",
              "    </tr>\n",
              "    <tr>\n",
              "      <th>3256</th>\n",
              "      <td>M</td>\n",
              "      <td>Sim</td>\n",
              "      <td>Nao</td>\n",
              "      <td>Nao</td>\n",
              "      <td>Atual</td>\n",
              "      <td>Nao</td>\n",
              "      <td>Sim</td>\n",
              "      <td>NaN</td>\n",
              "      <td>[71-95]</td>\n",
              "      <td>[70-76)</td>\n",
              "      <td>[1.56-1.62)</td>\n",
              "      <td>Sim</td>\n",
              "      <td>Nao</td>\n",
              "    </tr>\n",
              "    <tr>\n",
              "      <th>4833</th>\n",
              "      <td>M</td>\n",
              "      <td>Sim</td>\n",
              "      <td>Sim</td>\n",
              "      <td>Sim</td>\n",
              "      <td>Nao</td>\n",
              "      <td>Nao</td>\n",
              "      <td>Sim</td>\n",
              "      <td>NaN</td>\n",
              "      <td>[60-65)</td>\n",
              "      <td>[37-62.5)</td>\n",
              "      <td>[1.56-1.62)</td>\n",
              "      <td>Nao</td>\n",
              "      <td>Nao</td>\n",
              "    </tr>\n",
              "    <tr>\n",
              "      <th>5632</th>\n",
              "      <td>M</td>\n",
              "      <td>Sim</td>\n",
              "      <td>Nao</td>\n",
              "      <td>Nao</td>\n",
              "      <td>Atual</td>\n",
              "      <td>Nao</td>\n",
              "      <td>Nao</td>\n",
              "      <td>NaN</td>\n",
              "      <td>[65-71)</td>\n",
              "      <td>[62.5-70)</td>\n",
              "      <td>[1.62-1.67)</td>\n",
              "      <td>Sim</td>\n",
              "      <td>Nao</td>\n",
              "    </tr>\n",
              "    <tr>\n",
              "      <th>5763</th>\n",
              "      <td>M</td>\n",
              "      <td>Sim</td>\n",
              "      <td>Nao</td>\n",
              "      <td>Nao</td>\n",
              "      <td>Nao</td>\n",
              "      <td>Nao</td>\n",
              "      <td>Nao</td>\n",
              "      <td>NaN</td>\n",
              "      <td>[71-95]</td>\n",
              "      <td>[70-76)</td>\n",
              "      <td>[1.72-71.8]</td>\n",
              "      <td>Sim</td>\n",
              "      <td>Nao</td>\n",
              "    </tr>\n",
              "    <tr>\n",
              "      <th>6748</th>\n",
              "      <td>M</td>\n",
              "      <td>Sim</td>\n",
              "      <td>Nao</td>\n",
              "      <td>Nao</td>\n",
              "      <td>Nao</td>\n",
              "      <td>Nao</td>\n",
              "      <td>Nao</td>\n",
              "      <td>NaN</td>\n",
              "      <td>[65-71)</td>\n",
              "      <td>[70-76)</td>\n",
              "      <td>[1.62-1.67)</td>\n",
              "      <td>Nao</td>\n",
              "      <td>Nao</td>\n",
              "    </tr>\n",
              "    <tr>\n",
              "      <th>6902</th>\n",
              "      <td>F</td>\n",
              "      <td>Sim</td>\n",
              "      <td>Nao</td>\n",
              "      <td>Nao</td>\n",
              "      <td>Atual</td>\n",
              "      <td>Nao</td>\n",
              "      <td>Nao</td>\n",
              "      <td>NaN</td>\n",
              "      <td>[54-60)</td>\n",
              "      <td>[62.5-70)</td>\n",
              "      <td>[1.31-1.56)</td>\n",
              "      <td>Sim</td>\n",
              "      <td>Nao</td>\n",
              "    </tr>\n",
              "    <tr>\n",
              "      <th>6946</th>\n",
              "      <td>M</td>\n",
              "      <td>Sim</td>\n",
              "      <td>Sim</td>\n",
              "      <td>Sim</td>\n",
              "      <td>Nao</td>\n",
              "      <td>Nao</td>\n",
              "      <td>Nao</td>\n",
              "      <td>NaN</td>\n",
              "      <td>[65-71)</td>\n",
              "      <td>[85-148]</td>\n",
              "      <td>[1.67-1.72)</td>\n",
              "      <td>Sim</td>\n",
              "      <td>Nao</td>\n",
              "    </tr>\n",
              "    <tr>\n",
              "      <th>7371</th>\n",
              "      <td>M</td>\n",
              "      <td>Sim</td>\n",
              "      <td>Nao</td>\n",
              "      <td>Nao</td>\n",
              "      <td>Nao</td>\n",
              "      <td>Nao</td>\n",
              "      <td>Sim</td>\n",
              "      <td>NaN</td>\n",
              "      <td>[71-95]</td>\n",
              "      <td>[76-85)</td>\n",
              "      <td>[1.67-1.72)</td>\n",
              "      <td>Nao</td>\n",
              "      <td>Nao</td>\n",
              "    </tr>\n",
              "    <tr>\n",
              "      <th>7608</th>\n",
              "      <td>F</td>\n",
              "      <td>Sim</td>\n",
              "      <td>Sim</td>\n",
              "      <td>Nao</td>\n",
              "      <td>Nao</td>\n",
              "      <td>Nao</td>\n",
              "      <td>Sim</td>\n",
              "      <td>NaN</td>\n",
              "      <td>[71-95]</td>\n",
              "      <td>[85-148]</td>\n",
              "      <td>[1.31-1.56)</td>\n",
              "      <td>Sim</td>\n",
              "      <td>Nao</td>\n",
              "    </tr>\n",
              "  </tbody>\n",
              "</table>\n",
              "</div>\n",
              "      <button class=\"colab-df-convert\" onclick=\"convertToInteractive('df-357097a7-721c-4040-b534-12ada516a89a')\"\n",
              "              title=\"Convert this dataframe to an interactive table.\"\n",
              "              style=\"display:none;\">\n",
              "        \n",
              "  <svg xmlns=\"http://www.w3.org/2000/svg\" height=\"24px\"viewBox=\"0 0 24 24\"\n",
              "       width=\"24px\">\n",
              "    <path d=\"M0 0h24v24H0V0z\" fill=\"none\"/>\n",
              "    <path d=\"M18.56 5.44l.94 2.06.94-2.06 2.06-.94-2.06-.94-.94-2.06-.94 2.06-2.06.94zm-11 1L8.5 8.5l.94-2.06 2.06-.94-2.06-.94L8.5 2.5l-.94 2.06-2.06.94zm10 10l.94 2.06.94-2.06 2.06-.94-2.06-.94-.94-2.06-.94 2.06-2.06.94z\"/><path d=\"M17.41 7.96l-1.37-1.37c-.4-.4-.92-.59-1.43-.59-.52 0-1.04.2-1.43.59L10.3 9.45l-7.72 7.72c-.78.78-.78 2.05 0 2.83L4 21.41c.39.39.9.59 1.41.59.51 0 1.02-.2 1.41-.59l7.78-7.78 2.81-2.81c.8-.78.8-2.07 0-2.86zM5.41 20L4 18.59l7.72-7.72 1.47 1.35L5.41 20z\"/>\n",
              "  </svg>\n",
              "      </button>\n",
              "      \n",
              "  <style>\n",
              "    .colab-df-container {\n",
              "      display:flex;\n",
              "      flex-wrap:wrap;\n",
              "      gap: 12px;\n",
              "    }\n",
              "\n",
              "    .colab-df-convert {\n",
              "      background-color: #E8F0FE;\n",
              "      border: none;\n",
              "      border-radius: 50%;\n",
              "      cursor: pointer;\n",
              "      display: none;\n",
              "      fill: #1967D2;\n",
              "      height: 32px;\n",
              "      padding: 0 0 0 0;\n",
              "      width: 32px;\n",
              "    }\n",
              "\n",
              "    .colab-df-convert:hover {\n",
              "      background-color: #E2EBFA;\n",
              "      box-shadow: 0px 1px 2px rgba(60, 64, 67, 0.3), 0px 1px 3px 1px rgba(60, 64, 67, 0.15);\n",
              "      fill: #174EA6;\n",
              "    }\n",
              "\n",
              "    [theme=dark] .colab-df-convert {\n",
              "      background-color: #3B4455;\n",
              "      fill: #D2E3FC;\n",
              "    }\n",
              "\n",
              "    [theme=dark] .colab-df-convert:hover {\n",
              "      background-color: #434B5C;\n",
              "      box-shadow: 0px 1px 3px 1px rgba(0, 0, 0, 0.15);\n",
              "      filter: drop-shadow(0px 1px 2px rgba(0, 0, 0, 0.3));\n",
              "      fill: #FFFFFF;\n",
              "    }\n",
              "  </style>\n",
              "\n",
              "      <script>\n",
              "        const buttonEl =\n",
              "          document.querySelector('#df-357097a7-721c-4040-b534-12ada516a89a button.colab-df-convert');\n",
              "        buttonEl.style.display =\n",
              "          google.colab.kernel.accessAllowed ? 'block' : 'none';\n",
              "\n",
              "        async function convertToInteractive(key) {\n",
              "          const element = document.querySelector('#df-357097a7-721c-4040-b534-12ada516a89a');\n",
              "          const dataTable =\n",
              "            await google.colab.kernel.invokeFunction('convertToInteractive',\n",
              "                                                     [key], {});\n",
              "          if (!dataTable) return;\n",
              "\n",
              "          const docLinkHtml = 'Like what you see? Visit the ' +\n",
              "            '<a target=\"_blank\" href=https://colab.research.google.com/notebooks/data_table.ipynb>data table notebook</a>'\n",
              "            + ' to learn more about interactive tables.';\n",
              "          element.innerHTML = '';\n",
              "          dataTable['output_type'] = 'display_data';\n",
              "          await google.colab.output.renderOutput(dataTable, element);\n",
              "          const docLink = document.createElement('div');\n",
              "          docLink.innerHTML = docLinkHtml;\n",
              "          element.appendChild(docLink);\n",
              "        }\n",
              "      </script>\n",
              "    </div>\n",
              "  </div>\n",
              "  "
            ]
          },
          "metadata": {},
          "execution_count": 44
        }
      ]
    },
    {
      "cell_type": "markdown",
      "source": [
        "Eliminando valores nulos no dataset, utilizando o dropna()\n",
        "\n",
        "Utilizando apenas a coluna 'diagAtual' como objetivo, mas se não especificarmos nada em dropna(), ele elimina todas as linhas que contém valores nulos."
      ],
      "metadata": {
        "id": "Bs29GGmb0ZJ-"
      }
    },
    {
      "cell_type": "code",
      "source": [
        "dados.dropna(subset=['diagAtual'], inplace = True)"
      ],
      "metadata": {
        "id": "MuA4hqmD0G-H"
      },
      "execution_count": null,
      "outputs": []
    },
    {
      "cell_type": "code",
      "source": [
        "dados[dados['diagAtual'].isnull()]"
      ],
      "metadata": {
        "id": "yye6H7D83TxY",
        "colab": {
          "base_uri": "https://localhost:8080/",
          "height": 113
        },
        "outputId": "c4d7fbb1-7bf7-48cd-ac20-eb2cf02c0993"
      },
      "execution_count": null,
      "outputs": [
        {
          "output_type": "execute_result",
          "data": {
            "text/plain": [
              "Empty DataFrame\n",
              "Columns: [sexo, aHipertensao, aDiabetes, aFamiliar, aTabagismo, aDPulmonar, aInfarto, diagAtual, idadeCat, pesoCat, alturaCat, complicacoes, obito]\n",
              "Index: []"
            ],
            "text/html": [
              "\n",
              "  <div id=\"df-e92a6235-a71c-4d29-bba5-6824119b3b66\">\n",
              "    <div class=\"colab-df-container\">\n",
              "      <div>\n",
              "<style scoped>\n",
              "    .dataframe tbody tr th:only-of-type {\n",
              "        vertical-align: middle;\n",
              "    }\n",
              "\n",
              "    .dataframe tbody tr th {\n",
              "        vertical-align: top;\n",
              "    }\n",
              "\n",
              "    .dataframe thead th {\n",
              "        text-align: right;\n",
              "    }\n",
              "</style>\n",
              "<table border=\"1\" class=\"dataframe\">\n",
              "  <thead>\n",
              "    <tr style=\"text-align: right;\">\n",
              "      <th></th>\n",
              "      <th>sexo</th>\n",
              "      <th>aHipertensao</th>\n",
              "      <th>aDiabetes</th>\n",
              "      <th>aFamiliar</th>\n",
              "      <th>aTabagismo</th>\n",
              "      <th>aDPulmonar</th>\n",
              "      <th>aInfarto</th>\n",
              "      <th>diagAtual</th>\n",
              "      <th>idadeCat</th>\n",
              "      <th>pesoCat</th>\n",
              "      <th>alturaCat</th>\n",
              "      <th>complicacoes</th>\n",
              "      <th>obito</th>\n",
              "    </tr>\n",
              "  </thead>\n",
              "  <tbody>\n",
              "  </tbody>\n",
              "</table>\n",
              "</div>\n",
              "      <button class=\"colab-df-convert\" onclick=\"convertToInteractive('df-e92a6235-a71c-4d29-bba5-6824119b3b66')\"\n",
              "              title=\"Convert this dataframe to an interactive table.\"\n",
              "              style=\"display:none;\">\n",
              "        \n",
              "  <svg xmlns=\"http://www.w3.org/2000/svg\" height=\"24px\"viewBox=\"0 0 24 24\"\n",
              "       width=\"24px\">\n",
              "    <path d=\"M0 0h24v24H0V0z\" fill=\"none\"/>\n",
              "    <path d=\"M18.56 5.44l.94 2.06.94-2.06 2.06-.94-2.06-.94-.94-2.06-.94 2.06-2.06.94zm-11 1L8.5 8.5l.94-2.06 2.06-.94-2.06-.94L8.5 2.5l-.94 2.06-2.06.94zm10 10l.94 2.06.94-2.06 2.06-.94-2.06-.94-.94-2.06-.94 2.06-2.06.94z\"/><path d=\"M17.41 7.96l-1.37-1.37c-.4-.4-.92-.59-1.43-.59-.52 0-1.04.2-1.43.59L10.3 9.45l-7.72 7.72c-.78.78-.78 2.05 0 2.83L4 21.41c.39.39.9.59 1.41.59.51 0 1.02-.2 1.41-.59l7.78-7.78 2.81-2.81c.8-.78.8-2.07 0-2.86zM5.41 20L4 18.59l7.72-7.72 1.47 1.35L5.41 20z\"/>\n",
              "  </svg>\n",
              "      </button>\n",
              "      \n",
              "  <style>\n",
              "    .colab-df-container {\n",
              "      display:flex;\n",
              "      flex-wrap:wrap;\n",
              "      gap: 12px;\n",
              "    }\n",
              "\n",
              "    .colab-df-convert {\n",
              "      background-color: #E8F0FE;\n",
              "      border: none;\n",
              "      border-radius: 50%;\n",
              "      cursor: pointer;\n",
              "      display: none;\n",
              "      fill: #1967D2;\n",
              "      height: 32px;\n",
              "      padding: 0 0 0 0;\n",
              "      width: 32px;\n",
              "    }\n",
              "\n",
              "    .colab-df-convert:hover {\n",
              "      background-color: #E2EBFA;\n",
              "      box-shadow: 0px 1px 2px rgba(60, 64, 67, 0.3), 0px 1px 3px 1px rgba(60, 64, 67, 0.15);\n",
              "      fill: #174EA6;\n",
              "    }\n",
              "\n",
              "    [theme=dark] .colab-df-convert {\n",
              "      background-color: #3B4455;\n",
              "      fill: #D2E3FC;\n",
              "    }\n",
              "\n",
              "    [theme=dark] .colab-df-convert:hover {\n",
              "      background-color: #434B5C;\n",
              "      box-shadow: 0px 1px 3px 1px rgba(0, 0, 0, 0.15);\n",
              "      filter: drop-shadow(0px 1px 2px rgba(0, 0, 0, 0.3));\n",
              "      fill: #FFFFFF;\n",
              "    }\n",
              "  </style>\n",
              "\n",
              "      <script>\n",
              "        const buttonEl =\n",
              "          document.querySelector('#df-e92a6235-a71c-4d29-bba5-6824119b3b66 button.colab-df-convert');\n",
              "        buttonEl.style.display =\n",
              "          google.colab.kernel.accessAllowed ? 'block' : 'none';\n",
              "\n",
              "        async function convertToInteractive(key) {\n",
              "          const element = document.querySelector('#df-e92a6235-a71c-4d29-bba5-6824119b3b66');\n",
              "          const dataTable =\n",
              "            await google.colab.kernel.invokeFunction('convertToInteractive',\n",
              "                                                     [key], {});\n",
              "          if (!dataTable) return;\n",
              "\n",
              "          const docLinkHtml = 'Like what you see? Visit the ' +\n",
              "            '<a target=\"_blank\" href=https://colab.research.google.com/notebooks/data_table.ipynb>data table notebook</a>'\n",
              "            + ' to learn more about interactive tables.';\n",
              "          element.innerHTML = '';\n",
              "          dataTable['output_type'] = 'display_data';\n",
              "          await google.colab.output.renderOutput(dataTable, element);\n",
              "          const docLink = document.createElement('div');\n",
              "          docLink.innerHTML = docLinkHtml;\n",
              "          element.appendChild(docLink);\n",
              "        }\n",
              "      </script>\n",
              "    </div>\n",
              "  </div>\n",
              "  "
            ]
          },
          "metadata": {},
          "execution_count": 46
        }
      ]
    },
    {
      "cell_type": "markdown",
      "source": [
        "Temos também o método fillna() que preenche os valores ausentes num dataframe ou series.\n",
        "\n",
        "exemplo:"
      ],
      "metadata": {
        "id": "0sbYQrdz3713"
      }
    },
    {
      "cell_type": "code",
      "source": [
        "df = pd.DataFrame({'A': [1, 2, np.nan, 4],\n",
        "                   'B': [5, np.nan, 7, np.nan],\n",
        "                   'C': [8, 9, 10, 11],\n",
        "                   'D': [np.nan, np.nan, np.nan, np.nan]})\n",
        "\n",
        "df"
      ],
      "metadata": {
        "id": "poL-meqq3wCI",
        "colab": {
          "base_uri": "https://localhost:8080/",
          "height": 175
        },
        "outputId": "568bd777-00fd-4f4d-a477-1c83d3314213"
      },
      "execution_count": null,
      "outputs": [
        {
          "output_type": "execute_result",
          "data": {
            "text/plain": [
              "     A    B   C   D\n",
              "0  1.0  5.0   8 NaN\n",
              "1  2.0  NaN   9 NaN\n",
              "2  NaN  7.0  10 NaN\n",
              "3  4.0  NaN  11 NaN"
            ],
            "text/html": [
              "\n",
              "  <div id=\"df-f15da7c1-5a95-40fc-a62b-c02ddc37424b\">\n",
              "    <div class=\"colab-df-container\">\n",
              "      <div>\n",
              "<style scoped>\n",
              "    .dataframe tbody tr th:only-of-type {\n",
              "        vertical-align: middle;\n",
              "    }\n",
              "\n",
              "    .dataframe tbody tr th {\n",
              "        vertical-align: top;\n",
              "    }\n",
              "\n",
              "    .dataframe thead th {\n",
              "        text-align: right;\n",
              "    }\n",
              "</style>\n",
              "<table border=\"1\" class=\"dataframe\">\n",
              "  <thead>\n",
              "    <tr style=\"text-align: right;\">\n",
              "      <th></th>\n",
              "      <th>A</th>\n",
              "      <th>B</th>\n",
              "      <th>C</th>\n",
              "      <th>D</th>\n",
              "    </tr>\n",
              "  </thead>\n",
              "  <tbody>\n",
              "    <tr>\n",
              "      <th>0</th>\n",
              "      <td>1.0</td>\n",
              "      <td>5.0</td>\n",
              "      <td>8</td>\n",
              "      <td>NaN</td>\n",
              "    </tr>\n",
              "    <tr>\n",
              "      <th>1</th>\n",
              "      <td>2.0</td>\n",
              "      <td>NaN</td>\n",
              "      <td>9</td>\n",
              "      <td>NaN</td>\n",
              "    </tr>\n",
              "    <tr>\n",
              "      <th>2</th>\n",
              "      <td>NaN</td>\n",
              "      <td>7.0</td>\n",
              "      <td>10</td>\n",
              "      <td>NaN</td>\n",
              "    </tr>\n",
              "    <tr>\n",
              "      <th>3</th>\n",
              "      <td>4.0</td>\n",
              "      <td>NaN</td>\n",
              "      <td>11</td>\n",
              "      <td>NaN</td>\n",
              "    </tr>\n",
              "  </tbody>\n",
              "</table>\n",
              "</div>\n",
              "      <button class=\"colab-df-convert\" onclick=\"convertToInteractive('df-f15da7c1-5a95-40fc-a62b-c02ddc37424b')\"\n",
              "              title=\"Convert this dataframe to an interactive table.\"\n",
              "              style=\"display:none;\">\n",
              "        \n",
              "  <svg xmlns=\"http://www.w3.org/2000/svg\" height=\"24px\"viewBox=\"0 0 24 24\"\n",
              "       width=\"24px\">\n",
              "    <path d=\"M0 0h24v24H0V0z\" fill=\"none\"/>\n",
              "    <path d=\"M18.56 5.44l.94 2.06.94-2.06 2.06-.94-2.06-.94-.94-2.06-.94 2.06-2.06.94zm-11 1L8.5 8.5l.94-2.06 2.06-.94-2.06-.94L8.5 2.5l-.94 2.06-2.06.94zm10 10l.94 2.06.94-2.06 2.06-.94-2.06-.94-.94-2.06-.94 2.06-2.06.94z\"/><path d=\"M17.41 7.96l-1.37-1.37c-.4-.4-.92-.59-1.43-.59-.52 0-1.04.2-1.43.59L10.3 9.45l-7.72 7.72c-.78.78-.78 2.05 0 2.83L4 21.41c.39.39.9.59 1.41.59.51 0 1.02-.2 1.41-.59l7.78-7.78 2.81-2.81c.8-.78.8-2.07 0-2.86zM5.41 20L4 18.59l7.72-7.72 1.47 1.35L5.41 20z\"/>\n",
              "  </svg>\n",
              "      </button>\n",
              "      \n",
              "  <style>\n",
              "    .colab-df-container {\n",
              "      display:flex;\n",
              "      flex-wrap:wrap;\n",
              "      gap: 12px;\n",
              "    }\n",
              "\n",
              "    .colab-df-convert {\n",
              "      background-color: #E8F0FE;\n",
              "      border: none;\n",
              "      border-radius: 50%;\n",
              "      cursor: pointer;\n",
              "      display: none;\n",
              "      fill: #1967D2;\n",
              "      height: 32px;\n",
              "      padding: 0 0 0 0;\n",
              "      width: 32px;\n",
              "    }\n",
              "\n",
              "    .colab-df-convert:hover {\n",
              "      background-color: #E2EBFA;\n",
              "      box-shadow: 0px 1px 2px rgba(60, 64, 67, 0.3), 0px 1px 3px 1px rgba(60, 64, 67, 0.15);\n",
              "      fill: #174EA6;\n",
              "    }\n",
              "\n",
              "    [theme=dark] .colab-df-convert {\n",
              "      background-color: #3B4455;\n",
              "      fill: #D2E3FC;\n",
              "    }\n",
              "\n",
              "    [theme=dark] .colab-df-convert:hover {\n",
              "      background-color: #434B5C;\n",
              "      box-shadow: 0px 1px 3px 1px rgba(0, 0, 0, 0.15);\n",
              "      filter: drop-shadow(0px 1px 2px rgba(0, 0, 0, 0.3));\n",
              "      fill: #FFFFFF;\n",
              "    }\n",
              "  </style>\n",
              "\n",
              "      <script>\n",
              "        const buttonEl =\n",
              "          document.querySelector('#df-f15da7c1-5a95-40fc-a62b-c02ddc37424b button.colab-df-convert');\n",
              "        buttonEl.style.display =\n",
              "          google.colab.kernel.accessAllowed ? 'block' : 'none';\n",
              "\n",
              "        async function convertToInteractive(key) {\n",
              "          const element = document.querySelector('#df-f15da7c1-5a95-40fc-a62b-c02ddc37424b');\n",
              "          const dataTable =\n",
              "            await google.colab.kernel.invokeFunction('convertToInteractive',\n",
              "                                                     [key], {});\n",
              "          if (!dataTable) return;\n",
              "\n",
              "          const docLinkHtml = 'Like what you see? Visit the ' +\n",
              "            '<a target=\"_blank\" href=https://colab.research.google.com/notebooks/data_table.ipynb>data table notebook</a>'\n",
              "            + ' to learn more about interactive tables.';\n",
              "          element.innerHTML = '';\n",
              "          dataTable['output_type'] = 'display_data';\n",
              "          await google.colab.output.renderOutput(dataTable, element);\n",
              "          const docLink = document.createElement('div');\n",
              "          docLink.innerHTML = docLinkHtml;\n",
              "          element.appendChild(docLink);\n",
              "        }\n",
              "      </script>\n",
              "    </div>\n",
              "  </div>\n",
              "  "
            ]
          },
          "metadata": {},
          "execution_count": 47
        }
      ]
    },
    {
      "cell_type": "code",
      "source": [
        "df.fillna(1, inplace = True)\n",
        "df"
      ],
      "metadata": {
        "id": "Fw30ePXh4qmn",
        "colab": {
          "base_uri": "https://localhost:8080/",
          "height": 175
        },
        "outputId": "9a528de8-0b1f-4a50-82c5-d13fa11bd4cc"
      },
      "execution_count": null,
      "outputs": [
        {
          "output_type": "execute_result",
          "data": {
            "text/plain": [
              "     A    B   C    D\n",
              "0  1.0  5.0   8  1.0\n",
              "1  2.0  1.0   9  1.0\n",
              "2  1.0  7.0  10  1.0\n",
              "3  4.0  1.0  11  1.0"
            ],
            "text/html": [
              "\n",
              "  <div id=\"df-0464e522-2bdc-4643-bd39-163797a727f5\">\n",
              "    <div class=\"colab-df-container\">\n",
              "      <div>\n",
              "<style scoped>\n",
              "    .dataframe tbody tr th:only-of-type {\n",
              "        vertical-align: middle;\n",
              "    }\n",
              "\n",
              "    .dataframe tbody tr th {\n",
              "        vertical-align: top;\n",
              "    }\n",
              "\n",
              "    .dataframe thead th {\n",
              "        text-align: right;\n",
              "    }\n",
              "</style>\n",
              "<table border=\"1\" class=\"dataframe\">\n",
              "  <thead>\n",
              "    <tr style=\"text-align: right;\">\n",
              "      <th></th>\n",
              "      <th>A</th>\n",
              "      <th>B</th>\n",
              "      <th>C</th>\n",
              "      <th>D</th>\n",
              "    </tr>\n",
              "  </thead>\n",
              "  <tbody>\n",
              "    <tr>\n",
              "      <th>0</th>\n",
              "      <td>1.0</td>\n",
              "      <td>5.0</td>\n",
              "      <td>8</td>\n",
              "      <td>1.0</td>\n",
              "    </tr>\n",
              "    <tr>\n",
              "      <th>1</th>\n",
              "      <td>2.0</td>\n",
              "      <td>1.0</td>\n",
              "      <td>9</td>\n",
              "      <td>1.0</td>\n",
              "    </tr>\n",
              "    <tr>\n",
              "      <th>2</th>\n",
              "      <td>1.0</td>\n",
              "      <td>7.0</td>\n",
              "      <td>10</td>\n",
              "      <td>1.0</td>\n",
              "    </tr>\n",
              "    <tr>\n",
              "      <th>3</th>\n",
              "      <td>4.0</td>\n",
              "      <td>1.0</td>\n",
              "      <td>11</td>\n",
              "      <td>1.0</td>\n",
              "    </tr>\n",
              "  </tbody>\n",
              "</table>\n",
              "</div>\n",
              "      <button class=\"colab-df-convert\" onclick=\"convertToInteractive('df-0464e522-2bdc-4643-bd39-163797a727f5')\"\n",
              "              title=\"Convert this dataframe to an interactive table.\"\n",
              "              style=\"display:none;\">\n",
              "        \n",
              "  <svg xmlns=\"http://www.w3.org/2000/svg\" height=\"24px\"viewBox=\"0 0 24 24\"\n",
              "       width=\"24px\">\n",
              "    <path d=\"M0 0h24v24H0V0z\" fill=\"none\"/>\n",
              "    <path d=\"M18.56 5.44l.94 2.06.94-2.06 2.06-.94-2.06-.94-.94-2.06-.94 2.06-2.06.94zm-11 1L8.5 8.5l.94-2.06 2.06-.94-2.06-.94L8.5 2.5l-.94 2.06-2.06.94zm10 10l.94 2.06.94-2.06 2.06-.94-2.06-.94-.94-2.06-.94 2.06-2.06.94z\"/><path d=\"M17.41 7.96l-1.37-1.37c-.4-.4-.92-.59-1.43-.59-.52 0-1.04.2-1.43.59L10.3 9.45l-7.72 7.72c-.78.78-.78 2.05 0 2.83L4 21.41c.39.39.9.59 1.41.59.51 0 1.02-.2 1.41-.59l7.78-7.78 2.81-2.81c.8-.78.8-2.07 0-2.86zM5.41 20L4 18.59l7.72-7.72 1.47 1.35L5.41 20z\"/>\n",
              "  </svg>\n",
              "      </button>\n",
              "      \n",
              "  <style>\n",
              "    .colab-df-container {\n",
              "      display:flex;\n",
              "      flex-wrap:wrap;\n",
              "      gap: 12px;\n",
              "    }\n",
              "\n",
              "    .colab-df-convert {\n",
              "      background-color: #E8F0FE;\n",
              "      border: none;\n",
              "      border-radius: 50%;\n",
              "      cursor: pointer;\n",
              "      display: none;\n",
              "      fill: #1967D2;\n",
              "      height: 32px;\n",
              "      padding: 0 0 0 0;\n",
              "      width: 32px;\n",
              "    }\n",
              "\n",
              "    .colab-df-convert:hover {\n",
              "      background-color: #E2EBFA;\n",
              "      box-shadow: 0px 1px 2px rgba(60, 64, 67, 0.3), 0px 1px 3px 1px rgba(60, 64, 67, 0.15);\n",
              "      fill: #174EA6;\n",
              "    }\n",
              "\n",
              "    [theme=dark] .colab-df-convert {\n",
              "      background-color: #3B4455;\n",
              "      fill: #D2E3FC;\n",
              "    }\n",
              "\n",
              "    [theme=dark] .colab-df-convert:hover {\n",
              "      background-color: #434B5C;\n",
              "      box-shadow: 0px 1px 3px 1px rgba(0, 0, 0, 0.15);\n",
              "      filter: drop-shadow(0px 1px 2px rgba(0, 0, 0, 0.3));\n",
              "      fill: #FFFFFF;\n",
              "    }\n",
              "  </style>\n",
              "\n",
              "      <script>\n",
              "        const buttonEl =\n",
              "          document.querySelector('#df-0464e522-2bdc-4643-bd39-163797a727f5 button.colab-df-convert');\n",
              "        buttonEl.style.display =\n",
              "          google.colab.kernel.accessAllowed ? 'block' : 'none';\n",
              "\n",
              "        async function convertToInteractive(key) {\n",
              "          const element = document.querySelector('#df-0464e522-2bdc-4643-bd39-163797a727f5');\n",
              "          const dataTable =\n",
              "            await google.colab.kernel.invokeFunction('convertToInteractive',\n",
              "                                                     [key], {});\n",
              "          if (!dataTable) return;\n",
              "\n",
              "          const docLinkHtml = 'Like what you see? Visit the ' +\n",
              "            '<a target=\"_blank\" href=https://colab.research.google.com/notebooks/data_table.ipynb>data table notebook</a>'\n",
              "            + ' to learn more about interactive tables.';\n",
              "          element.innerHTML = '';\n",
              "          dataTable['output_type'] = 'display_data';\n",
              "          await google.colab.output.renderOutput(dataTable, element);\n",
              "          const docLink = document.createElement('div');\n",
              "          docLink.innerHTML = docLinkHtml;\n",
              "          element.appendChild(docLink);\n",
              "        }\n",
              "      </script>\n",
              "    </div>\n",
              "  </div>\n",
              "  "
            ]
          },
          "metadata": {},
          "execution_count": 48
        }
      ]
    },
    {
      "cell_type": "markdown",
      "source": [
        "### Substituindo o dataset anterior pelo atual"
      ],
      "metadata": {
        "id": "Ls3-MN7Wgd9K"
      }
    },
    {
      "cell_type": "code",
      "source": [
        "dados.to_csv('/content/drive/MyDrive/Colab Notebooks/dsday/NewCoronarianos.csv', sep= ';', index = False)"
      ],
      "metadata": {
        "id": "ZqeaLGKegg99"
      },
      "execution_count": null,
      "outputs": []
    },
    {
      "cell_type": "markdown",
      "source": [
        "### Realizando Seleções"
      ],
      "metadata": {
        "id": "t35Ofp9V7Epg"
      }
    },
    {
      "cell_type": "markdown",
      "source": [
        "Criando um DataFrame com as colunas referentes a antecedentes pessoais do paciente"
      ],
      "metadata": {
        "id": "iP7SbWnz8zlY"
      }
    },
    {
      "cell_type": "code",
      "source": [
        "antecedentesp = dados[['aHipertensao','aDiabetes','aFamiliar','aTabagismo','aDPulmonar','aInfarto']]\n",
        "antecedentesp"
      ],
      "metadata": {
        "id": "t20POD-a7KIo",
        "colab": {
          "base_uri": "https://localhost:8080/",
          "height": 424
        },
        "outputId": "103c327e-ac4e-4541-cf3b-726a9610e598"
      },
      "execution_count": null,
      "outputs": [
        {
          "output_type": "execute_result",
          "data": {
            "text/plain": [
              "     aHipertensao aDiabetes aFamiliar   aTabagismo aDPulmonar aInfarto\n",
              "0             Sim       Nao       Nao  Interropido        Nao      Sim\n",
              "1             Sim       Sim       Nao          Nao        Nao      Nao\n",
              "2             Sim       Sim       Nao          Nao        Nao      Sim\n",
              "3             Sim       Nao       Nao  Interropido        Sim      Nao\n",
              "4             Sim       Nao       Nao        Atual        Nao      Nao\n",
              "...           ...       ...       ...          ...        ...      ...\n",
              "8699          Sim       Sim       Nao          Nao        Nao      Sim\n",
              "8700          Sim       Sim       Nao  Interropido        Nao      Sim\n",
              "8701          Sim       Sim       Nao        Atual        Nao      Sim\n",
              "8702          Sim       Sim       Sim          Nao        Nao      Nao\n",
              "8703          Sim       Sim       Nao        Atual        Nao      Sim\n",
              "\n",
              "[8689 rows x 6 columns]"
            ],
            "text/html": [
              "\n",
              "  <div id=\"df-72c2bcd3-47db-48d4-a876-fe41841abe94\">\n",
              "    <div class=\"colab-df-container\">\n",
              "      <div>\n",
              "<style scoped>\n",
              "    .dataframe tbody tr th:only-of-type {\n",
              "        vertical-align: middle;\n",
              "    }\n",
              "\n",
              "    .dataframe tbody tr th {\n",
              "        vertical-align: top;\n",
              "    }\n",
              "\n",
              "    .dataframe thead th {\n",
              "        text-align: right;\n",
              "    }\n",
              "</style>\n",
              "<table border=\"1\" class=\"dataframe\">\n",
              "  <thead>\n",
              "    <tr style=\"text-align: right;\">\n",
              "      <th></th>\n",
              "      <th>aHipertensao</th>\n",
              "      <th>aDiabetes</th>\n",
              "      <th>aFamiliar</th>\n",
              "      <th>aTabagismo</th>\n",
              "      <th>aDPulmonar</th>\n",
              "      <th>aInfarto</th>\n",
              "    </tr>\n",
              "  </thead>\n",
              "  <tbody>\n",
              "    <tr>\n",
              "      <th>0</th>\n",
              "      <td>Sim</td>\n",
              "      <td>Nao</td>\n",
              "      <td>Nao</td>\n",
              "      <td>Interropido</td>\n",
              "      <td>Nao</td>\n",
              "      <td>Sim</td>\n",
              "    </tr>\n",
              "    <tr>\n",
              "      <th>1</th>\n",
              "      <td>Sim</td>\n",
              "      <td>Sim</td>\n",
              "      <td>Nao</td>\n",
              "      <td>Nao</td>\n",
              "      <td>Nao</td>\n",
              "      <td>Nao</td>\n",
              "    </tr>\n",
              "    <tr>\n",
              "      <th>2</th>\n",
              "      <td>Sim</td>\n",
              "      <td>Sim</td>\n",
              "      <td>Nao</td>\n",
              "      <td>Nao</td>\n",
              "      <td>Nao</td>\n",
              "      <td>Sim</td>\n",
              "    </tr>\n",
              "    <tr>\n",
              "      <th>3</th>\n",
              "      <td>Sim</td>\n",
              "      <td>Nao</td>\n",
              "      <td>Nao</td>\n",
              "      <td>Interropido</td>\n",
              "      <td>Sim</td>\n",
              "      <td>Nao</td>\n",
              "    </tr>\n",
              "    <tr>\n",
              "      <th>4</th>\n",
              "      <td>Sim</td>\n",
              "      <td>Nao</td>\n",
              "      <td>Nao</td>\n",
              "      <td>Atual</td>\n",
              "      <td>Nao</td>\n",
              "      <td>Nao</td>\n",
              "    </tr>\n",
              "    <tr>\n",
              "      <th>...</th>\n",
              "      <td>...</td>\n",
              "      <td>...</td>\n",
              "      <td>...</td>\n",
              "      <td>...</td>\n",
              "      <td>...</td>\n",
              "      <td>...</td>\n",
              "    </tr>\n",
              "    <tr>\n",
              "      <th>8699</th>\n",
              "      <td>Sim</td>\n",
              "      <td>Sim</td>\n",
              "      <td>Nao</td>\n",
              "      <td>Nao</td>\n",
              "      <td>Nao</td>\n",
              "      <td>Sim</td>\n",
              "    </tr>\n",
              "    <tr>\n",
              "      <th>8700</th>\n",
              "      <td>Sim</td>\n",
              "      <td>Sim</td>\n",
              "      <td>Nao</td>\n",
              "      <td>Interropido</td>\n",
              "      <td>Nao</td>\n",
              "      <td>Sim</td>\n",
              "    </tr>\n",
              "    <tr>\n",
              "      <th>8701</th>\n",
              "      <td>Sim</td>\n",
              "      <td>Sim</td>\n",
              "      <td>Nao</td>\n",
              "      <td>Atual</td>\n",
              "      <td>Nao</td>\n",
              "      <td>Sim</td>\n",
              "    </tr>\n",
              "    <tr>\n",
              "      <th>8702</th>\n",
              "      <td>Sim</td>\n",
              "      <td>Sim</td>\n",
              "      <td>Sim</td>\n",
              "      <td>Nao</td>\n",
              "      <td>Nao</td>\n",
              "      <td>Nao</td>\n",
              "    </tr>\n",
              "    <tr>\n",
              "      <th>8703</th>\n",
              "      <td>Sim</td>\n",
              "      <td>Sim</td>\n",
              "      <td>Nao</td>\n",
              "      <td>Atual</td>\n",
              "      <td>Nao</td>\n",
              "      <td>Sim</td>\n",
              "    </tr>\n",
              "  </tbody>\n",
              "</table>\n",
              "<p>8689 rows × 6 columns</p>\n",
              "</div>\n",
              "      <button class=\"colab-df-convert\" onclick=\"convertToInteractive('df-72c2bcd3-47db-48d4-a876-fe41841abe94')\"\n",
              "              title=\"Convert this dataframe to an interactive table.\"\n",
              "              style=\"display:none;\">\n",
              "        \n",
              "  <svg xmlns=\"http://www.w3.org/2000/svg\" height=\"24px\"viewBox=\"0 0 24 24\"\n",
              "       width=\"24px\">\n",
              "    <path d=\"M0 0h24v24H0V0z\" fill=\"none\"/>\n",
              "    <path d=\"M18.56 5.44l.94 2.06.94-2.06 2.06-.94-2.06-.94-.94-2.06-.94 2.06-2.06.94zm-11 1L8.5 8.5l.94-2.06 2.06-.94-2.06-.94L8.5 2.5l-.94 2.06-2.06.94zm10 10l.94 2.06.94-2.06 2.06-.94-2.06-.94-.94-2.06-.94 2.06-2.06.94z\"/><path d=\"M17.41 7.96l-1.37-1.37c-.4-.4-.92-.59-1.43-.59-.52 0-1.04.2-1.43.59L10.3 9.45l-7.72 7.72c-.78.78-.78 2.05 0 2.83L4 21.41c.39.39.9.59 1.41.59.51 0 1.02-.2 1.41-.59l7.78-7.78 2.81-2.81c.8-.78.8-2.07 0-2.86zM5.41 20L4 18.59l7.72-7.72 1.47 1.35L5.41 20z\"/>\n",
              "  </svg>\n",
              "      </button>\n",
              "      \n",
              "  <style>\n",
              "    .colab-df-container {\n",
              "      display:flex;\n",
              "      flex-wrap:wrap;\n",
              "      gap: 12px;\n",
              "    }\n",
              "\n",
              "    .colab-df-convert {\n",
              "      background-color: #E8F0FE;\n",
              "      border: none;\n",
              "      border-radius: 50%;\n",
              "      cursor: pointer;\n",
              "      display: none;\n",
              "      fill: #1967D2;\n",
              "      height: 32px;\n",
              "      padding: 0 0 0 0;\n",
              "      width: 32px;\n",
              "    }\n",
              "\n",
              "    .colab-df-convert:hover {\n",
              "      background-color: #E2EBFA;\n",
              "      box-shadow: 0px 1px 2px rgba(60, 64, 67, 0.3), 0px 1px 3px 1px rgba(60, 64, 67, 0.15);\n",
              "      fill: #174EA6;\n",
              "    }\n",
              "\n",
              "    [theme=dark] .colab-df-convert {\n",
              "      background-color: #3B4455;\n",
              "      fill: #D2E3FC;\n",
              "    }\n",
              "\n",
              "    [theme=dark] .colab-df-convert:hover {\n",
              "      background-color: #434B5C;\n",
              "      box-shadow: 0px 1px 3px 1px rgba(0, 0, 0, 0.15);\n",
              "      filter: drop-shadow(0px 1px 2px rgba(0, 0, 0, 0.3));\n",
              "      fill: #FFFFFF;\n",
              "    }\n",
              "  </style>\n",
              "\n",
              "      <script>\n",
              "        const buttonEl =\n",
              "          document.querySelector('#df-72c2bcd3-47db-48d4-a876-fe41841abe94 button.colab-df-convert');\n",
              "        buttonEl.style.display =\n",
              "          google.colab.kernel.accessAllowed ? 'block' : 'none';\n",
              "\n",
              "        async function convertToInteractive(key) {\n",
              "          const element = document.querySelector('#df-72c2bcd3-47db-48d4-a876-fe41841abe94');\n",
              "          const dataTable =\n",
              "            await google.colab.kernel.invokeFunction('convertToInteractive',\n",
              "                                                     [key], {});\n",
              "          if (!dataTable) return;\n",
              "\n",
              "          const docLinkHtml = 'Like what you see? Visit the ' +\n",
              "            '<a target=\"_blank\" href=https://colab.research.google.com/notebooks/data_table.ipynb>data table notebook</a>'\n",
              "            + ' to learn more about interactive tables.';\n",
              "          element.innerHTML = '';\n",
              "          dataTable['output_type'] = 'display_data';\n",
              "          await google.colab.output.renderOutput(dataTable, element);\n",
              "          const docLink = document.createElement('div');\n",
              "          docLink.innerHTML = docLinkHtml;\n",
              "          element.appendChild(docLink);\n",
              "        }\n",
              "      </script>\n",
              "    </div>\n",
              "  </div>\n",
              "  "
            ]
          },
          "metadata": {},
          "execution_count": 50
        }
      ]
    },
    {
      "cell_type": "markdown",
      "source": [
        "Selecionando uma Series com os óbitos iguais a 'Sim'"
      ],
      "metadata": {
        "id": "Xf3Sdj9i-wlo"
      }
    },
    {
      "cell_type": "code",
      "source": [
        "selecao = dados['obito'] == 'Sim'\n",
        "selecao"
      ],
      "metadata": {
        "id": "UagKajw48lzJ",
        "colab": {
          "base_uri": "https://localhost:8080/"
        },
        "outputId": "f5a30eeb-807c-4a21-f744-67e1456b6c53"
      },
      "execution_count": null,
      "outputs": [
        {
          "output_type": "execute_result",
          "data": {
            "text/plain": [
              "0       False\n",
              "1       False\n",
              "2       False\n",
              "3       False\n",
              "4       False\n",
              "        ...  \n",
              "8699    False\n",
              "8700    False\n",
              "8701    False\n",
              "8702    False\n",
              "8703    False\n",
              "Name: obito, Length: 8689, dtype: bool"
            ]
          },
          "metadata": {},
          "execution_count": 51
        }
      ]
    },
    {
      "cell_type": "markdown",
      "source": [
        "Transformando em um dataframe, temos:"
      ],
      "metadata": {
        "id": "LzT2bZ5ZASpp"
      }
    },
    {
      "cell_type": "code",
      "source": [
        "obitos = dados[selecao]\n",
        "obitos"
      ],
      "metadata": {
        "id": "RLIP57gP-hPp",
        "colab": {
          "base_uri": "https://localhost:8080/",
          "height": 661
        },
        "outputId": "3ebb972c-8666-451e-824c-49db17ae38e5"
      },
      "execution_count": null,
      "outputs": [
        {
          "output_type": "execute_result",
          "data": {
            "text/plain": [
              "     sexo aHipertensao aDiabetes aFamiliar   aTabagismo aDPulmonar aInfarto  \\\n",
              "11      M          Sim       Nao       Nao          Nao        Nao      Sim   \n",
              "59      M          Sim       Nao       Nao        Atual        Nao      Sim   \n",
              "60      M          Sim       Nao       Nao          Nao        Nao      Nao   \n",
              "103     M          Sim       Nao       Nao  Interropido        Nao      Nao   \n",
              "112     M          Nao       Nao       Nao  Interropido        Nao      Sim   \n",
              "...   ...          ...       ...       ...          ...        ...      ...   \n",
              "8588    M          Sim       Nao       Nao  Interropido        Nao      Sim   \n",
              "8603    M          Sim       Sim       Nao  Interropido        Nao      Sim   \n",
              "8616    M          Sim       Nao       Nao          Nao        Nao      Sim   \n",
              "8618    M          Sim       Sim       Nao          Nao        Nao      Nao   \n",
              "8637    M          Sim       Sim       Nao          Nao        Nao      Sim   \n",
              "\n",
              "                diagAtual idadeCat    pesoCat    alturaCat complicacoes obito  \n",
              "11         Angina Estavel  [71-95]  [37-62.5)  [1.62-1.67)          Sim   Sim  \n",
              "59    Indicacao Anatomica  [18-54)    [76-85)  [1.72-71.8]          Sim   Sim  \n",
              "60         Angina Estavel  [54-60)    [76-85)  [1.72-71.8]          Sim   Sim  \n",
              "103   Isquemia Silenciosa  [71-95]   [85-148]  [1.72-71.8]          Sim   Sim  \n",
              "112        Angina Estavel  [71-95]  [37-62.5)  [1.31-1.56)          Sim   Sim  \n",
              "...                   ...      ...        ...          ...          ...   ...  \n",
              "8588  Indicacao Anatomica  [71-95]   [85-148]  [1.72-71.8]          Sim   Sim  \n",
              "8603  Indicacao Anatomica  [18-54)   [85-148]  [1.67-1.72)          Sim   Sim  \n",
              "8616  Indicacao Anatomica  [71-95]  [62.5-70)  [1.62-1.67)          Sim   Sim  \n",
              "8618      Angina Instavel  [71-95]    [70-76)  [1.62-1.67)          Sim   Sim  \n",
              "8637      Angina Instavel  [71-95]  [62.5-70)  [1.67-1.72)          Sim   Sim  \n",
              "\n",
              "[425 rows x 13 columns]"
            ],
            "text/html": [
              "\n",
              "  <div id=\"df-a964a01f-d1c5-4c4b-968c-ff0d68f257f8\">\n",
              "    <div class=\"colab-df-container\">\n",
              "      <div>\n",
              "<style scoped>\n",
              "    .dataframe tbody tr th:only-of-type {\n",
              "        vertical-align: middle;\n",
              "    }\n",
              "\n",
              "    .dataframe tbody tr th {\n",
              "        vertical-align: top;\n",
              "    }\n",
              "\n",
              "    .dataframe thead th {\n",
              "        text-align: right;\n",
              "    }\n",
              "</style>\n",
              "<table border=\"1\" class=\"dataframe\">\n",
              "  <thead>\n",
              "    <tr style=\"text-align: right;\">\n",
              "      <th></th>\n",
              "      <th>sexo</th>\n",
              "      <th>aHipertensao</th>\n",
              "      <th>aDiabetes</th>\n",
              "      <th>aFamiliar</th>\n",
              "      <th>aTabagismo</th>\n",
              "      <th>aDPulmonar</th>\n",
              "      <th>aInfarto</th>\n",
              "      <th>diagAtual</th>\n",
              "      <th>idadeCat</th>\n",
              "      <th>pesoCat</th>\n",
              "      <th>alturaCat</th>\n",
              "      <th>complicacoes</th>\n",
              "      <th>obito</th>\n",
              "    </tr>\n",
              "  </thead>\n",
              "  <tbody>\n",
              "    <tr>\n",
              "      <th>11</th>\n",
              "      <td>M</td>\n",
              "      <td>Sim</td>\n",
              "      <td>Nao</td>\n",
              "      <td>Nao</td>\n",
              "      <td>Nao</td>\n",
              "      <td>Nao</td>\n",
              "      <td>Sim</td>\n",
              "      <td>Angina Estavel</td>\n",
              "      <td>[71-95]</td>\n",
              "      <td>[37-62.5)</td>\n",
              "      <td>[1.62-1.67)</td>\n",
              "      <td>Sim</td>\n",
              "      <td>Sim</td>\n",
              "    </tr>\n",
              "    <tr>\n",
              "      <th>59</th>\n",
              "      <td>M</td>\n",
              "      <td>Sim</td>\n",
              "      <td>Nao</td>\n",
              "      <td>Nao</td>\n",
              "      <td>Atual</td>\n",
              "      <td>Nao</td>\n",
              "      <td>Sim</td>\n",
              "      <td>Indicacao Anatomica</td>\n",
              "      <td>[18-54)</td>\n",
              "      <td>[76-85)</td>\n",
              "      <td>[1.72-71.8]</td>\n",
              "      <td>Sim</td>\n",
              "      <td>Sim</td>\n",
              "    </tr>\n",
              "    <tr>\n",
              "      <th>60</th>\n",
              "      <td>M</td>\n",
              "      <td>Sim</td>\n",
              "      <td>Nao</td>\n",
              "      <td>Nao</td>\n",
              "      <td>Nao</td>\n",
              "      <td>Nao</td>\n",
              "      <td>Nao</td>\n",
              "      <td>Angina Estavel</td>\n",
              "      <td>[54-60)</td>\n",
              "      <td>[76-85)</td>\n",
              "      <td>[1.72-71.8]</td>\n",
              "      <td>Sim</td>\n",
              "      <td>Sim</td>\n",
              "    </tr>\n",
              "    <tr>\n",
              "      <th>103</th>\n",
              "      <td>M</td>\n",
              "      <td>Sim</td>\n",
              "      <td>Nao</td>\n",
              "      <td>Nao</td>\n",
              "      <td>Interropido</td>\n",
              "      <td>Nao</td>\n",
              "      <td>Nao</td>\n",
              "      <td>Isquemia Silenciosa</td>\n",
              "      <td>[71-95]</td>\n",
              "      <td>[85-148]</td>\n",
              "      <td>[1.72-71.8]</td>\n",
              "      <td>Sim</td>\n",
              "      <td>Sim</td>\n",
              "    </tr>\n",
              "    <tr>\n",
              "      <th>112</th>\n",
              "      <td>M</td>\n",
              "      <td>Nao</td>\n",
              "      <td>Nao</td>\n",
              "      <td>Nao</td>\n",
              "      <td>Interropido</td>\n",
              "      <td>Nao</td>\n",
              "      <td>Sim</td>\n",
              "      <td>Angina Estavel</td>\n",
              "      <td>[71-95]</td>\n",
              "      <td>[37-62.5)</td>\n",
              "      <td>[1.31-1.56)</td>\n",
              "      <td>Sim</td>\n",
              "      <td>Sim</td>\n",
              "    </tr>\n",
              "    <tr>\n",
              "      <th>...</th>\n",
              "      <td>...</td>\n",
              "      <td>...</td>\n",
              "      <td>...</td>\n",
              "      <td>...</td>\n",
              "      <td>...</td>\n",
              "      <td>...</td>\n",
              "      <td>...</td>\n",
              "      <td>...</td>\n",
              "      <td>...</td>\n",
              "      <td>...</td>\n",
              "      <td>...</td>\n",
              "      <td>...</td>\n",
              "      <td>...</td>\n",
              "    </tr>\n",
              "    <tr>\n",
              "      <th>8588</th>\n",
              "      <td>M</td>\n",
              "      <td>Sim</td>\n",
              "      <td>Nao</td>\n",
              "      <td>Nao</td>\n",
              "      <td>Interropido</td>\n",
              "      <td>Nao</td>\n",
              "      <td>Sim</td>\n",
              "      <td>Indicacao Anatomica</td>\n",
              "      <td>[71-95]</td>\n",
              "      <td>[85-148]</td>\n",
              "      <td>[1.72-71.8]</td>\n",
              "      <td>Sim</td>\n",
              "      <td>Sim</td>\n",
              "    </tr>\n",
              "    <tr>\n",
              "      <th>8603</th>\n",
              "      <td>M</td>\n",
              "      <td>Sim</td>\n",
              "      <td>Sim</td>\n",
              "      <td>Nao</td>\n",
              "      <td>Interropido</td>\n",
              "      <td>Nao</td>\n",
              "      <td>Sim</td>\n",
              "      <td>Indicacao Anatomica</td>\n",
              "      <td>[18-54)</td>\n",
              "      <td>[85-148]</td>\n",
              "      <td>[1.67-1.72)</td>\n",
              "      <td>Sim</td>\n",
              "      <td>Sim</td>\n",
              "    </tr>\n",
              "    <tr>\n",
              "      <th>8616</th>\n",
              "      <td>M</td>\n",
              "      <td>Sim</td>\n",
              "      <td>Nao</td>\n",
              "      <td>Nao</td>\n",
              "      <td>Nao</td>\n",
              "      <td>Nao</td>\n",
              "      <td>Sim</td>\n",
              "      <td>Indicacao Anatomica</td>\n",
              "      <td>[71-95]</td>\n",
              "      <td>[62.5-70)</td>\n",
              "      <td>[1.62-1.67)</td>\n",
              "      <td>Sim</td>\n",
              "      <td>Sim</td>\n",
              "    </tr>\n",
              "    <tr>\n",
              "      <th>8618</th>\n",
              "      <td>M</td>\n",
              "      <td>Sim</td>\n",
              "      <td>Sim</td>\n",
              "      <td>Nao</td>\n",
              "      <td>Nao</td>\n",
              "      <td>Nao</td>\n",
              "      <td>Nao</td>\n",
              "      <td>Angina Instavel</td>\n",
              "      <td>[71-95]</td>\n",
              "      <td>[70-76)</td>\n",
              "      <td>[1.62-1.67)</td>\n",
              "      <td>Sim</td>\n",
              "      <td>Sim</td>\n",
              "    </tr>\n",
              "    <tr>\n",
              "      <th>8637</th>\n",
              "      <td>M</td>\n",
              "      <td>Sim</td>\n",
              "      <td>Sim</td>\n",
              "      <td>Nao</td>\n",
              "      <td>Nao</td>\n",
              "      <td>Nao</td>\n",
              "      <td>Sim</td>\n",
              "      <td>Angina Instavel</td>\n",
              "      <td>[71-95]</td>\n",
              "      <td>[62.5-70)</td>\n",
              "      <td>[1.67-1.72)</td>\n",
              "      <td>Sim</td>\n",
              "      <td>Sim</td>\n",
              "    </tr>\n",
              "  </tbody>\n",
              "</table>\n",
              "<p>425 rows × 13 columns</p>\n",
              "</div>\n",
              "      <button class=\"colab-df-convert\" onclick=\"convertToInteractive('df-a964a01f-d1c5-4c4b-968c-ff0d68f257f8')\"\n",
              "              title=\"Convert this dataframe to an interactive table.\"\n",
              "              style=\"display:none;\">\n",
              "        \n",
              "  <svg xmlns=\"http://www.w3.org/2000/svg\" height=\"24px\"viewBox=\"0 0 24 24\"\n",
              "       width=\"24px\">\n",
              "    <path d=\"M0 0h24v24H0V0z\" fill=\"none\"/>\n",
              "    <path d=\"M18.56 5.44l.94 2.06.94-2.06 2.06-.94-2.06-.94-.94-2.06-.94 2.06-2.06.94zm-11 1L8.5 8.5l.94-2.06 2.06-.94-2.06-.94L8.5 2.5l-.94 2.06-2.06.94zm10 10l.94 2.06.94-2.06 2.06-.94-2.06-.94-.94-2.06-.94 2.06-2.06.94z\"/><path d=\"M17.41 7.96l-1.37-1.37c-.4-.4-.92-.59-1.43-.59-.52 0-1.04.2-1.43.59L10.3 9.45l-7.72 7.72c-.78.78-.78 2.05 0 2.83L4 21.41c.39.39.9.59 1.41.59.51 0 1.02-.2 1.41-.59l7.78-7.78 2.81-2.81c.8-.78.8-2.07 0-2.86zM5.41 20L4 18.59l7.72-7.72 1.47 1.35L5.41 20z\"/>\n",
              "  </svg>\n",
              "      </button>\n",
              "      \n",
              "  <style>\n",
              "    .colab-df-container {\n",
              "      display:flex;\n",
              "      flex-wrap:wrap;\n",
              "      gap: 12px;\n",
              "    }\n",
              "\n",
              "    .colab-df-convert {\n",
              "      background-color: #E8F0FE;\n",
              "      border: none;\n",
              "      border-radius: 50%;\n",
              "      cursor: pointer;\n",
              "      display: none;\n",
              "      fill: #1967D2;\n",
              "      height: 32px;\n",
              "      padding: 0 0 0 0;\n",
              "      width: 32px;\n",
              "    }\n",
              "\n",
              "    .colab-df-convert:hover {\n",
              "      background-color: #E2EBFA;\n",
              "      box-shadow: 0px 1px 2px rgba(60, 64, 67, 0.3), 0px 1px 3px 1px rgba(60, 64, 67, 0.15);\n",
              "      fill: #174EA6;\n",
              "    }\n",
              "\n",
              "    [theme=dark] .colab-df-convert {\n",
              "      background-color: #3B4455;\n",
              "      fill: #D2E3FC;\n",
              "    }\n",
              "\n",
              "    [theme=dark] .colab-df-convert:hover {\n",
              "      background-color: #434B5C;\n",
              "      box-shadow: 0px 1px 3px 1px rgba(0, 0, 0, 0.15);\n",
              "      filter: drop-shadow(0px 1px 2px rgba(0, 0, 0, 0.3));\n",
              "      fill: #FFFFFF;\n",
              "    }\n",
              "  </style>\n",
              "\n",
              "      <script>\n",
              "        const buttonEl =\n",
              "          document.querySelector('#df-a964a01f-d1c5-4c4b-968c-ff0d68f257f8 button.colab-df-convert');\n",
              "        buttonEl.style.display =\n",
              "          google.colab.kernel.accessAllowed ? 'block' : 'none';\n",
              "\n",
              "        async function convertToInteractive(key) {\n",
              "          const element = document.querySelector('#df-a964a01f-d1c5-4c4b-968c-ff0d68f257f8');\n",
              "          const dataTable =\n",
              "            await google.colab.kernel.invokeFunction('convertToInteractive',\n",
              "                                                     [key], {});\n",
              "          if (!dataTable) return;\n",
              "\n",
              "          const docLinkHtml = 'Like what you see? Visit the ' +\n",
              "            '<a target=\"_blank\" href=https://colab.research.google.com/notebooks/data_table.ipynb>data table notebook</a>'\n",
              "            + ' to learn more about interactive tables.';\n",
              "          element.innerHTML = '';\n",
              "          dataTable['output_type'] = 'display_data';\n",
              "          await google.colab.output.renderOutput(dataTable, element);\n",
              "          const docLink = document.createElement('div');\n",
              "          docLink.innerHTML = docLinkHtml;\n",
              "          element.appendChild(docLink);\n",
              "        }\n",
              "      </script>\n",
              "    </div>\n",
              "  </div>\n",
              "  "
            ]
          },
          "metadata": {},
          "execution_count": 52
        }
      ]
    },
    {
      "cell_type": "code",
      "source": [
        "print('De {} pacientes que fizeram cirurgia coronariana, {} vieram a obito após complicações.'.format(dados.shape[0], obitos.shape[0]))"
      ],
      "metadata": {
        "id": "YFwqRhtK-pR4",
        "colab": {
          "base_uri": "https://localhost:8080/"
        },
        "outputId": "91153348-4562-4ffd-c012-a9724d1f9654"
      },
      "execution_count": null,
      "outputs": [
        {
          "output_type": "stream",
          "name": "stdout",
          "text": [
            "De 8689 pacientes que fizeram cirurgia coronariana, 425 vieram a obito após complicações.\n"
          ]
        }
      ]
    },
    {
      "cell_type": "markdown",
      "source": [
        "### Plotando gráficos"
      ],
      "metadata": {
        "id": "s0tPBFF5Wnpx"
      }
    },
    {
      "cell_type": "code",
      "source": [
        "%matplotlib inline\n",
        "import matplotlib.pyplot as plt\n",
        "plt.rc('figure', figsize = (20, 10))"
      ],
      "metadata": {
        "id": "ChE3H31FA12J"
      },
      "execution_count": null,
      "outputs": []
    },
    {
      "cell_type": "markdown",
      "source": [
        "Criando um gráfico para visualizar a porcentagem de óbitos por gênero (M e F)"
      ],
      "metadata": {
        "id": "3Dn09FOCYz66"
      }
    },
    {
      "cell_type": "code",
      "source": [
        "percentual_obito = obitos['sexo'].value_counts(normalize=True) * 100\n",
        "percentual_obito"
      ],
      "metadata": {
        "id": "YUCUI2QOZf7r",
        "colab": {
          "base_uri": "https://localhost:8080/"
        },
        "outputId": "97cf7446-3482-4aad-fc83-52fae6a84647"
      },
      "execution_count": null,
      "outputs": [
        {
          "output_type": "execute_result",
          "data": {
            "text/plain": [
              "M    57.176471\n",
              "F    42.823529\n",
              "Name: sexo, dtype: float64"
            ]
          },
          "metadata": {},
          "execution_count": 57
        }
      ]
    },
    {
      "cell_type": "code",
      "source": [
        "pizza = percentual_obito.plot.pie(labels=['Masculino', 'Feminino'],autopct='%1.1f%%')\n",
        "pizza.set_title('Porcentagem de óbitos/sexo')"
      ],
      "metadata": {
        "id": "RW3eDh49aYzs",
        "colab": {
          "base_uri": "https://localhost:8080/",
          "height": 608
        },
        "outputId": "cacda813-84d3-4f4d-ee1c-2b0cfdc6ed18"
      },
      "execution_count": null,
      "outputs": [
        {
          "output_type": "execute_result",
          "data": {
            "text/plain": [
              "Text(0.5, 1.0, 'Porcentagem de óbitos/sexo')"
            ]
          },
          "metadata": {},
          "execution_count": 58
        },
        {
          "output_type": "display_data",
          "data": {
            "text/plain": [
              "<Figure size 1440x720 with 1 Axes>"
            ],
            "image/png": "[encoded data removed]"
          },
          "metadata": {}
        }
      ]
    },
    {
      "cell_type": "markdown",
      "source": [
        "Criando um gráfico sobre antecedentes familiares (dos pacientes)"
      ],
      "metadata": {
        "id": "RlUqkgfjbsJC"
      }
    },
    {
      "cell_type": "code",
      "source": [
        "porcentagem_familiar = dados['aFamiliar'].value_counts(normalize=True) * 100"
      ],
      "metadata": {
        "id": "2-XpPjQ1bKt6"
      },
      "execution_count": null,
      "outputs": []
    },
    {
      "cell_type": "code",
      "source": [
        "pizza2 = porcentagem_familiar.plot.pie(autopct='%1.1f%%')\n",
        "pizza2.set_title('Porcentagem dos pacientes que tem antecedentes familiares')"
      ],
      "metadata": {
        "id": "Feioe00icKhL",
        "colab": {
          "base_uri": "https://localhost:8080/",
          "height": 608
        },
        "outputId": "abb436dc-32bf-47f5-a8ae-56dc274a9d4d"
      },
      "execution_count": null,
      "outputs": [
        {
          "output_type": "execute_result",
          "data": {
            "text/plain": [
              "Text(0.5, 1.0, 'Porcentagem dos pacientes que tem antecedentes familiares')"
            ]
          },
          "metadata": {},
          "execution_count": 60
        },
        {
          "output_type": "display_data",
          "data": {
            "text/plain": [
              "<Figure size 1440x720 with 1 Axes>"
            ],
            "image/png": "[encoded data removed]"
          },
          "metadata": {}
        }
      ]
    },
    {
      "cell_type": "markdown",
      "source": [
        "Criando um gráfico para visualizar os diferentes diagnósticos"
      ],
      "metadata": {
        "id": "LX_gn-ngdg3I"
      }
    },
    {
      "cell_type": "code",
      "source": [
        "diagnosticos = dados['diagAtual'].value_counts()"
      ],
      "metadata": {
        "id": "ZfJc38POcdqa"
      },
      "execution_count": null,
      "outputs": []
    },
    {
      "cell_type": "code",
      "source": [
        "barra1 = diagnosticos.plot.bar(color='purple')"
      ],
      "metadata": {
        "id": "OoSM7HVad3nk",
        "colab": {
          "base_uri": "https://localhost:8080/",
          "height": 536
        },
        "outputId": "21cc9b1a-489d-4f57-a9df-85a6a9a05945"
      },
      "execution_count": null,
      "outputs": [
        {
          "output_type": "display_data",
          "data": {
            "text/plain": [
              "<Figure size 1440x720 with 1 Axes>"
            ],
            "image/png": "[encoded data removed]"
          },
          "metadata": {
            "needs_background": "light"
          }
        }
      ]
    },
    {
      "cell_type": "code",
      "source": [],
      "metadata": {
        "id": "-LhdD-IEd9xL"
      },
      "execution_count": null,
      "outputs": []
    }
  ]
}